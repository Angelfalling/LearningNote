{
 "cells": [
  {
   "cell_type": "code",
   "execution_count": 6,
   "metadata": {},
   "outputs": [
    {
     "name": "stdout",
     "output_type": "stream",
     "text": [
      "Hi,My name is LIU YING\n",
      "Hi,My name is MICHI STANGLE\n"
     ]
    }
   ],
   "source": [
    "# 属性案例\n",
    "# 创建学生类Student，描述学生类\n",
    "# 学生具有student.name属性\n",
    "# 但name格式并不统一\n",
    "# 可以增加一个函数，然后进行自动调用的方式\n",
    "class Student():\n",
    "    def __init__(self,name,age):\n",
    "        self.name = name\n",
    "        self.age = age\n",
    "        self.setName(name)\n",
    "    #介绍一下自己\n",
    "    def intro(self):\n",
    "        print(\"Hi,My name is {0}\".format(self.name))\n",
    "    def setName(self,name):\n",
    "        self.name = name.upper()\n",
    "        \n",
    "s1 = Student(\"liu Ying\",19)\n",
    "s2 = Student(\"Michi Stangle\",24)\n",
    "s1.intro()\n",
    "s2.intro()"
   ]
  },
  {
   "cell_type": "code",
   "execution_count": 17,
   "metadata": {},
   "outputs": [],
   "source": [
    "# property的案例\n",
    "# 定义一个person类，具有name,age属性\n",
    "# 对于任意输入的姓名，我们希望都用大写方式保存\n",
    "# 年龄，我们希望内部统一用整数保存\n",
    "# x = property(fget,fset,fdel,doc)\n",
    "class Person():\n",
    "    '''\n",
    "    这是一个神奇的文档\n",
    "    '''\n",
    "    \n",
    "    \n",
    "    def fget(self):\n",
    "        return self._name * 2\n",
    "    def fset(self,name):\n",
    "        self._name = name.upper()\n",
    "    def fdel(self):\n",
    "        self.name = \"Noname\"\n",
    "    name = property(fget,fset,fdel,\"对name进行下操作\")\n"
   ]
  },
  {
   "cell_type": "code",
   "execution_count": 18,
   "metadata": {},
   "outputs": [
    {
     "name": "stdout",
     "output_type": "stream",
     "text": [
      "TuLing\n"
     ]
    }
   ],
   "source": [
    "p1 = Person()\n",
    "p1._name = \"TuLing\"\n",
    "print(p1._name)"
   ]
  },
  {
   "cell_type": "code",
   "execution_count": 19,
   "metadata": {},
   "outputs": [
    {
     "name": "stdout",
     "output_type": "stream",
     "text": [
      "{'__module__': '__main__', '__doc__': '\\n    这是一个神奇的文档\\n    ', 'fget': <function Person.fget at 0x7f01081487b8>, 'fset': <function Person.fset at 0x7f0108167048>, 'fdel': <function Person.fdel at 0x7f01081670d0>, 'name': <property object at 0x7f0108162c78>, '__dict__': <attribute '__dict__' of 'Person' objects>, '__weakref__': <attribute '__weakref__' of 'Person' objects>}\n",
      "\n",
      "    这是一个神奇的文档\n",
      "    \n"
     ]
    }
   ],
   "source": [
    "# 类的内置属性距离\n",
    "print(Person.__dict__)\n",
    "print(Person.__doc__)"
   ]
  }
 ],
 "metadata": {
  "kernelspec": {
   "display_name": "Python 3",
   "language": "python",
   "name": "python3"
  },
  "language_info": {
   "codemirror_mode": {
    "name": "ipython",
    "version": 3
   },
   "file_extension": ".py",
   "mimetype": "text/x-python",
   "name": "python",
   "nbconvert_exporter": "python",
   "pygments_lexer": "ipython3",
   "version": "3.6.5"
  }
 },
 "nbformat": 4,
 "nbformat_minor": 2
}
