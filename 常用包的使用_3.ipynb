{
 "cells": [
  {
   "cell_type": "markdown",
   "metadata": {},
   "source": [
    "# datetime.datetime模块"
   ]
  },
  {
   "cell_type": "code",
   "execution_count": 3,
   "metadata": {},
   "outputs": [
    {
     "name": "stdout",
     "output_type": "stream",
     "text": [
      "2018-07-19 07:53:27.688959\n"
     ]
    }
   ],
   "source": [
    "from datetime import  datetime as dt\n",
    "print(dt.now())"
   ]
  },
  {
   "cell_type": "markdown",
   "metadata": {},
   "source": [
    "# OS-操作系统相关\n",
    "- 跟操作系统相关，主要是文件操作\n",
    "- 与操作系统相关，主要包含在三个模块里\n",
    "    - os,操作系统目录相关\n",
    "    - os.path ，系统路径相关操作\n",
    "    - shutil,高级文件操作，目录树的操作，文件赋值，删除，移动\n",
    "- 绝对路径\n",
    "    - 总是从根目录上开始\n",
    "- 相对路径\n",
    "    - 基本以当前环境开始的一个想对的地方"
   ]
  },
  {
   "cell_type": "markdown",
   "metadata": {},
   "source": [
    "# OS模块"
   ]
  },
  {
   "cell_type": "code",
   "execution_count": 7,
   "metadata": {},
   "outputs": [
    {
     "name": "stdout",
     "output_type": "stream",
     "text": [
      "/home/opencv/Python_Mr_Robot\n"
     ]
    }
   ],
   "source": [
    "import os\n",
    "# getcwd() 获取当前的工作目录\n",
    "# 返回字符串\n",
    "mydir = os.getcwd()\n",
    "print(mydir)"
   ]
  },
  {
   "cell_type": "code",
   "execution_count": 10,
   "metadata": {},
   "outputs": [
    {
     "name": "stdout",
     "output_type": "stream",
     "text": [
      "/home/opencv\n"
     ]
    }
   ],
   "source": [
    "# chdir() 改变当前的工作目录\n",
    "# 返回值：无\n",
    "\n",
    "os.chdir('/home/opencv')\n",
    "mydir = os.getcwd()\n",
    "print(mydir)"
   ]
  },
  {
   "cell_type": "code",
   "execution_count": 12,
   "metadata": {},
   "outputs": [
    {
     "name": "stdout",
     "output_type": "stream",
     "text": [
      "['.gconf', 'Python基础课堂05.ipynb', '.dmrc', '.bash_history', '.dbus', 'OOP-1.ipynb', 'Music', 'examples.desktop', '.cache', '.xsession-errors', '.vscode', 'Downloads', 'QT_Code', '.gstreamer-0.10', 'anaconda3', '.sogouinput', 'Desktop', '.xinputrc', '.bashrc~', '.Xauthority', '.ICEauthority', '.ipython', '.pam_environment', 'Qt5.9.6', '.config', 'Documents', 'Python_Mr_Robot', '.bash_logout', 'Public', '.conda', '.xsession-errors.old', '.profile', 'Pictures', '.PyCharmCE2018.1', 'npm-debug.log', 'Templates', '.bashrc-anaconda3.bak', '.ipynb_checkpoints', '.java', 'PycharmProjects', '.jupyter', '.mozilla', '.local', 'Videos', '.bashrc', '.npm']\n"
     ]
    }
   ],
   "source": [
    "# listdir() 获取一个目录中所有子目录和文件的名称列表\n",
    "# 格式os.listdir(目录)\n",
    "# 返回子目录和文件名称列表\n",
    "\n",
    "ls = os.listdir()\n",
    "print(ls)"
   ]
  },
  {
   "cell_type": "code",
   "execution_count": 14,
   "metadata": {},
   "outputs": [
    {
     "name": "stdout",
     "output_type": "stream",
     "text": [
      "None\n"
     ]
    }
   ],
   "source": [
    "# makedir() 递归创建文件夹\n",
    "# 格式：os.makedirs(递归路径)\n",
    "# 返回值：无\n",
    "# 递归路径：多个文件夹曾包含的路径就是递归路径，例如a/b/c\n",
    "\n",
    "rst = os.makedirs(\"dage\")\n",
    "print(rst)"
   ]
  },
  {
   "cell_type": "code",
   "execution_count": 20,
   "metadata": {},
   "outputs": [
    {
     "name": "stdout",
     "output_type": "stream",
     "text": [
      "Help on built-in function system in module posix:\n",
      "\n",
      "system(command)\n",
      "    Execute the command in a subshell.\n",
      "\n",
      "0\n"
     ]
    }
   ],
   "source": [
    "# system() 运行系统shell命令\n",
    "# 一般推荐subprocess代替\n",
    "help(os.system)\n",
    "\n",
    "rst = os.system(\"ls\")\n",
    "print(rst)"
   ]
  },
  {
   "cell_type": "code",
   "execution_count": 24,
   "metadata": {},
   "outputs": [
    {
     "name": "stdout",
     "output_type": "stream",
     "text": [
      "/home/opencv/anaconda3/bin:/home/opencv/anaconda3/bin:/usr/local/anaconda3/bin:/home/opencv/anaconda3/bin:/home/opencv/Qt5.9.6/5.9.6/gcc_64/bin:/usr/local/sbin:/usr/local/bin:/usr/sbin:/usr/bin:/sbin:/bin:/usr/games:/usr/local/games\n"
     ]
    }
   ],
   "source": [
    "# getenv() 获取指定的系统环境变量\n",
    "\n",
    "rst = os.getenv(\"PATH\")\n",
    "print(rst)"
   ]
  },
  {
   "cell_type": "code",
   "execution_count": 25,
   "metadata": {},
   "outputs": [],
   "source": [
    "# exit() 退出当前程序\n"
   ]
  },
  {
   "cell_type": "markdown",
   "metadata": {},
   "source": [
    "# 值部分\n",
    "-  os.curdir:current dir，当前目录\n",
    "-  os.pardir: parent dir 父目录\n",
    "- os.sep:当前系统的路径分隔符\n",
    "- os.linesep：当前系统的换行符号\n",
    "\n",
    "- os.name:当前系统名称"
   ]
  },
  {
   "cell_type": "code",
   "execution_count": 28,
   "metadata": {},
   "outputs": [
    {
     "name": "stdout",
     "output_type": "stream",
     "text": [
      "..\n",
      ".\n"
     ]
    }
   ],
   "source": [
    "print(os.pardir)\n",
    "print(os.curdir)"
   ]
  },
  {
   "cell_type": "code",
   "execution_count": 32,
   "metadata": {},
   "outputs": [
    {
     "name": "stdout",
     "output_type": "stream",
     "text": [
      "/\n",
      "\n",
      "\n"
     ]
    }
   ],
   "source": [
    "print(os.sep)\n",
    "print(os.linesep)"
   ]
  },
  {
   "cell_type": "code",
   "execution_count": 35,
   "metadata": {},
   "outputs": [
    {
     "name": "stdout",
     "output_type": "stream",
     "text": [
      "/home/opencv/ming\n"
     ]
    }
   ],
   "source": [
    "# 在路径相关的操作中，不要手动拼写地址，因为手动拼写的地址不具有移植性\n",
    "path = \"/home/opencv\" + \"/\"+\"ming\"\n",
    "print(path)"
   ]
  },
  {
   "cell_type": "code",
   "execution_count": 36,
   "metadata": {},
   "outputs": [
    {
     "name": "stdout",
     "output_type": "stream",
     "text": [
      "posix\n"
     ]
    }
   ],
   "source": [
    "print(os.name)"
   ]
  }
 ],
 "metadata": {
  "kernelspec": {
   "display_name": "Python 3",
   "language": "python",
   "name": "python3"
  },
  "language_info": {
   "codemirror_mode": {
    "name": "ipython",
    "version": 3
   },
   "file_extension": ".py",
   "mimetype": "text/x-python",
   "name": "python",
   "nbconvert_exporter": "python",
   "pygments_lexer": "ipython3",
   "version": "3.6.5"
  }
 },
 "nbformat": 4,
 "nbformat_minor": 2
}
