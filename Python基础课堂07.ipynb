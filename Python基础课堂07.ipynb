{
 "cells": [
  {
   "cell_type": "code",
   "execution_count": 5,
   "metadata": {},
   "outputs": [
    {
     "name": "stdout",
     "output_type": "stream",
     "text": [
      "[1, 2, 3, 4, 5]\n",
      "[1, 2, 300, 4, 5]\n",
      "[1, 2, 300, 4, 5]\n",
      "9\n",
      "109\n",
      "9\n"
     ]
    }
   ],
   "source": [
    "# 传址和传值的区别\n",
    "# 对于简单的数值，采用传值操作，即在函数内对参数的操作不影响外面的变量\n",
    "# 对于复杂变量，采用传址操作，此时函数内的参数和外部变量是同意内容，任何地方对此内容的更改都影响另外一方\n",
    "def a(n):\n",
    "    n[2] = 300\n",
    "    print(n)\n",
    "    return None\n",
    "\n",
    "def b(n):\n",
    "    n += 100\n",
    "    print(n)\n",
    "    return None\n",
    "\n",
    "\n",
    "an = [1,2,3,4,5]\n",
    "bn = 9\n",
    "\n",
    "print(an)\n",
    "a(an)\n",
    "print(an)\n",
    "\n",
    "print(bn)\n",
    "b(bn)\n",
    "print(bn)"
   ]
  },
  {
   "cell_type": "markdown",
   "metadata": {},
   "source": [
    "# 关于列表的函数"
   ]
  },
  {
   "cell_type": "code",
   "execution_count": 7,
   "metadata": {},
   "outputs": [
    {
     "data": {
      "text/plain": [
       "['a', 'I love zhangxiaoshuai', 45, 766, 6]"
      ]
     },
     "execution_count": 7,
     "metadata": {},
     "output_type": "execute_result"
    }
   ],
   "source": [
    "l = ['a',\"I love zhangxiaoshuai\",45,766,5+1]\n",
    "l"
   ]
  },
  {
   "cell_type": "code",
   "execution_count": 9,
   "metadata": {},
   "outputs": [
    {
     "name": "stdout",
     "output_type": "stream",
     "text": [
      "[1, 2, 3, 4]\n",
      "[1, 2, 3, 4, 100]\n"
     ]
    }
   ],
   "source": [
    "# append 插入一个内容\n",
    "a = [ i for i in range(1,5)]\n",
    "print(a)\n",
    "a.append(100)\n",
    "print(a)"
   ]
  },
  {
   "cell_type": "code",
   "execution_count": 14,
   "metadata": {},
   "outputs": [
    {
     "name": "stdout",
     "output_type": "stream",
     "text": [
      "[1, 2, 666, 3, 4, 100]\n",
      "[1, 2, 666, 666, 3, 4, 100]\n"
     ]
    }
   ],
   "source": [
    "# insert:指定位置插入\n",
    "# insert(index ,date)\n",
    "print(a)\n",
    "a.insert(2,666)\n",
    "print(a)"
   ]
  },
  {
   "cell_type": "code",
   "execution_count": 16,
   "metadata": {},
   "outputs": [
    {
     "name": "stdout",
     "output_type": "stream",
     "text": [
      "[1, 2, 666, 666, 3]\n"
     ]
    }
   ],
   "source": [
    "# 删除\n",
    "# del \n",
    "# pop,从对位拿出一个元素，既把最后一个元素拿出来\n",
    "last_ele = a.pop()\n",
    "print(a)"
   ]
  },
  {
   "cell_type": "code",
   "execution_count": 21,
   "metadata": {},
   "outputs": [
    {
     "name": "stdout",
     "output_type": "stream",
     "text": [
      "[1, 2, 3]\n",
      "139654419058440\n"
     ]
    },
    {
     "ename": "ValueError",
     "evalue": "list.remove(x): x not in list",
     "output_type": "error",
     "traceback": [
      "\u001b[0;31m---------------------------------------------------------------------------\u001b[0m",
      "\u001b[0;31mValueError\u001b[0m                                Traceback (most recent call last)",
      "\u001b[0;32m<ipython-input-21-1a93f087998d>\u001b[0m in \u001b[0;36m<module>\u001b[0;34m()\u001b[0m\n\u001b[1;32m      4\u001b[0m \u001b[0mprint\u001b[0m\u001b[0;34m(\u001b[0m\u001b[0ma\u001b[0m\u001b[0;34m)\u001b[0m\u001b[0;34m\u001b[0m\u001b[0m\n\u001b[1;32m      5\u001b[0m \u001b[0mprint\u001b[0m\u001b[0;34m(\u001b[0m\u001b[0mid\u001b[0m\u001b[0;34m(\u001b[0m\u001b[0ma\u001b[0m\u001b[0;34m)\u001b[0m\u001b[0;34m)\u001b[0m\u001b[0;34m\u001b[0m\u001b[0m\n\u001b[0;32m----> 6\u001b[0;31m \u001b[0ma\u001b[0m\u001b[0;34m.\u001b[0m\u001b[0mremove\u001b[0m\u001b[0;34m(\u001b[0m\u001b[0;36m666\u001b[0m\u001b[0;34m)\u001b[0m\u001b[0;34m\u001b[0m\u001b[0m\n\u001b[0m\u001b[1;32m      7\u001b[0m \u001b[0mprint\u001b[0m\u001b[0;34m(\u001b[0m\u001b[0ma\u001b[0m\u001b[0;34m)\u001b[0m\u001b[0;34m\u001b[0m\u001b[0m\n\u001b[1;32m      8\u001b[0m \u001b[0mprint\u001b[0m\u001b[0;34m(\u001b[0m\u001b[0mid\u001b[0m\u001b[0;34m(\u001b[0m\u001b[0ma\u001b[0m\u001b[0;34m)\u001b[0m\u001b[0;34m)\u001b[0m\u001b[0;34m\u001b[0m\u001b[0m\n",
      "\u001b[0;31mValueError\u001b[0m: list.remove(x): x not in list"
     ]
    }
   ],
   "source": [
    "# remove:在列表中删除指定的元素\n",
    "# 如果被删除的值不在列表中则报错\n",
    "# 即删除list指定值的操作应该使用try...catch语句，或者先行进行判断\n",
    "print(a)\n",
    "print(id(a))\n",
    "a.remove(666)\n",
    "print(a)\n",
    "print(id(a))"
   ]
  },
  {
   "cell_type": "code",
   "execution_count": 23,
   "metadata": {},
   "outputs": [
    {
     "name": "stdout",
     "output_type": "stream",
     "text": [
      "[]\n",
      "139654419058440\n",
      "[]\n",
      "139654419058440\n"
     ]
    }
   ],
   "source": [
    "# clear:清空\n",
    "print(a)\n",
    "print(id(a))\n",
    "a.clear()\n",
    "print(a)\n",
    "print(id(a))\n",
    "\n",
    "# 如果不需要列表地址保持不变，清空列表可以使用一下方式\n",
    "# a = list()\n",
    "# a = []"
   ]
  },
  {
   "cell_type": "code",
   "execution_count": 25,
   "metadata": {},
   "outputs": [
    {
     "name": "stdout",
     "output_type": "stream",
     "text": [
      "[1, 2, 3, 4, 5]\n",
      "139654183240776\n",
      "[5, 4, 3, 2, 1]\n",
      "139654183240776\n"
     ]
    }
   ],
   "source": [
    "# reverse\n",
    "a = [1,2,3,4,5]\n",
    "print(a)\n",
    "print(id(a))\n",
    "\n",
    "a.reverse()\n",
    "print(a)\n",
    "print(id(a))\n"
   ]
  },
  {
   "cell_type": "code",
   "execution_count": 27,
   "metadata": {},
   "outputs": [
    {
     "name": "stdout",
     "output_type": "stream",
     "text": [
      "[1, 2, 3, 4, 5]\n",
      "139654418711048\n",
      "[1, 2, 3, 4, 5, 6, 7, 8, 9, 10]\n",
      "139654418711048\n"
     ]
    }
   ],
   "source": [
    "# extend:扩展列表，两个列表，把一个列表直接拼接到另一个上\n",
    "a = [1,2,3,4,5]\n",
    "print(a)\n",
    "print(id(a))\n",
    "\n",
    "b = [6,7,8,9,10]\n",
    "a.extend(b)\n",
    "\n",
    "print(a)\n",
    "print(id(a))\n"
   ]
  },
  {
   "cell_type": "code",
   "execution_count": 32,
   "metadata": {},
   "outputs": [
    {
     "name": "stdout",
     "output_type": "stream",
     "text": [
      "[1, 8, 2, 3, 4, 5, 6, 7, 8, 9, 10]\n",
      "[1, 8, 8, 2, 3, 4, 5, 6, 7, 8, 9, 10]\n",
      "3\n"
     ]
    }
   ],
   "source": [
    "# count:查找列表中指定值或指定元素的个数\n",
    "print(a)\n",
    "a.insert(1,8)\n",
    "print(a)\n",
    "a_len = a.count(8)\n",
    "print(a_len)"
   ]
  },
  {
   "cell_type": "code",
   "execution_count": 53,
   "metadata": {},
   "outputs": [
    {
     "name": "stdout",
     "output_type": "stream",
     "text": [
      "[1, 2, 3, 777, 5]\n",
      "[1, 2, 3, 777, 5]\n",
      "---------\n",
      "[1, 2, 3, 777, 5]\n",
      "139654418713416\n",
      "---------\n",
      "[1, 666, 3, 777, 5]\n",
      "139654418713416\n",
      "---------\n",
      "[1, 2, 3, 777, 5]\n",
      "139654419947848\n"
     ]
    }
   ],
   "source": [
    "# copy:拷贝，浅拷贝\n",
    "\n",
    "# 列表类型变量赋值示例\n",
    "a = [1,2,3,4,5]\n",
    "b = a\n",
    "b[3] = 777\n",
    "print(a)\n",
    "print(b)\n",
    "      \n",
    "# 为了解决以上问题，需要采用copy函数\n",
    "b = a.copy()\n",
    "\n",
    "print(\"---------\")\n",
    "print(b)\n",
    "print(id(b))\n",
    "b[1] = 666\n",
    "print(\"---------\")\n",
    "print(b)\n",
    "print(id(b))\n",
    "print(\"---------\")\n",
    "print(a)\n",
    "print(id(a))\n"
   ]
  },
  {
   "cell_type": "code",
   "execution_count": 57,
   "metadata": {},
   "outputs": [
    {
     "name": "stdout",
     "output_type": "stream",
     "text": [
      "139654418679240\n",
      "139654418653512\n",
      "139654419180936\n",
      "139654419180936\n",
      "[1, 2, 3, [10, 20, 666]]\n",
      "[1, 2, 3, [10, 20, 666]]\n"
     ]
    }
   ],
   "source": [
    "# 深拷贝跟浅拷贝的区别\n",
    "# 出现下列问题的原因是，copy函数是一个浅拷贝函数，即只拷贝一层内容#\n",
    "# 深拷贝需要使用特定工具\n",
    "\n",
    "a = [1,2,3,[10,20,30]]\n",
    "b = a.copy()\n",
    "print(id(a))\n",
    "print(id(b))\n",
    "print(id(a[3]))\n",
    "print(id(b[3]))\n",
    "a[3][2] = 666\n",
    "print(a)\n",
    "print(b)"
   ]
  },
  {
   "cell_type": "markdown",
   "metadata": {},
   "source": [
    "# 元祖 -tuple\n",
    "- 元祖可以看成是一个不可更改的list\n",
    "## 元祖创建\n"
   ]
  },
  {
   "cell_type": "code",
   "execution_count": 67,
   "metadata": {},
   "outputs": [
    {
     "name": "stdout",
     "output_type": "stream",
     "text": [
      "<class 'tuple'>\n",
      "<class 'tuple'>\n",
      "(1,)\n",
      "<class 'tuple'>\n",
      "<class 'tuple'>\n",
      "<class 'tuple'>\n",
      "(1, 2, 3, 4, 5)\n"
     ]
    }
   ],
   "source": [
    "# 创建元祖\n",
    "t = ()\n",
    "print(type(t))\n",
    "\n",
    "# 创建一个只有一个值的元祖\n",
    "t = (1,)\n",
    "print(type(t))\n",
    "print(t)\n",
    "\n",
    "t = 1,\n",
    "print(type(t))\n",
    "\n",
    "# 创建多个值的元祖\n",
    "\n",
    "t = 1,2,3,4,5\n",
    "print(type(t))\n",
    "\n",
    "l = [1,2,3,4,5]\n",
    "t = tuple(l)\n",
    "print(type(t))\n",
    "print(t)"
   ]
  },
  {
   "cell_type": "markdown",
   "metadata": {},
   "source": [
    "# 元祖的特性\n",
    "- 是序列表，有序\n",
    "- 元祖数据值可以访问，不能修改，不能修改，不能修改\n",
    "- 元组数据可以是任何数据\n",
    "- 总之，list所有特性，除了可修改外，元祖都具有。\n",
    "- 也就以为这，list具有的一些操作，比如索引，分片，序列相加，相乘，成员资格操作等，一模一样"
   ]
  },
  {
   "cell_type": "code",
   "execution_count": 69,
   "metadata": {},
   "outputs": [
    {
     "name": "stdout",
     "output_type": "stream",
     "text": [
      "5\n"
     ]
    }
   ],
   "source": [
    "# 索引操作\n",
    "t = (1,2,3,4,5)\n",
    "print(t[4])"
   ]
  },
  {
   "cell_type": "code",
   "execution_count": 78,
   "metadata": {},
   "outputs": [
    {
     "name": "stdout",
     "output_type": "stream",
     "text": [
      "(2, 4, 6)\n",
      "(3,)\n"
     ]
    }
   ],
   "source": [
    "t = (1,2,3,4,5,6)\n",
    "t1 = t[1::2]\n",
    "print(t1)\n",
    "\n",
    "t2 = t[2::100]\n",
    "print(t2)"
   ]
  },
  {
   "cell_type": "code",
   "execution_count": 81,
   "metadata": {},
   "outputs": [
    {
     "name": "stdout",
     "output_type": "stream",
     "text": [
      "(1, 2, 3, 4, 5, 6)\n"
     ]
    }
   ],
   "source": [
    "# 序列相加\n",
    "t1 = (1,2,3)\n",
    "t2 = (4,5,6)\n",
    "\n",
    "# 传址操作\n",
    "t1 += t2\n",
    "print(t1)"
   ]
  },
  {
   "cell_type": "code",
   "execution_count": 82,
   "metadata": {},
   "outputs": [
    {
     "name": "stdout",
     "output_type": "stream",
     "text": [
      "(1, 2, 3, 1, 2, 3, 1, 2, 3)\n"
     ]
    }
   ],
   "source": [
    "# 元祖相乘\n",
    "t = (1,2,3)\n",
    "t = t * 3\n",
    "print(t)"
   ]
  },
  {
   "cell_type": "code",
   "execution_count": 83,
   "metadata": {},
   "outputs": [
    {
     "name": "stdout",
     "output_type": "stream",
     "text": [
      "yes\n"
     ]
    }
   ],
   "source": [
    "# 成员检测\n",
    "t = (1,2,3)\n",
    "if 2 in t:\n",
    "    print(\"yes\")\n",
    "else:\n",
    "    print(\"no\")"
   ]
  },
  {
   "cell_type": "code",
   "execution_count": 87,
   "metadata": {},
   "outputs": [
    {
     "name": "stdout",
     "output_type": "stream",
     "text": [
      "1 2 3 zhangxiaoshuai i love "
     ]
    }
   ],
   "source": [
    "# 元祖遍历，一般采用for\n",
    "# 1.单层元祖遍历\n",
    "t = (1,2,3,\"zhangxiaoshuai\",\"i\",\"love\")\n",
    "for i in t:\n",
    "    print(i,end= \" \")"
   ]
  },
  {
   "cell_type": "code",
   "execution_count": 89,
   "metadata": {},
   "outputs": [
    {
     "name": "stdout",
     "output_type": "stream",
     "text": [
      "(1, 2, 3)\n",
      "(2, 3, 4)\n",
      "('i', 'love', 'zhangixaoshuai')\n",
      "1 --- 2 --- 3\n",
      "2 --- 3 --- 4\n",
      "i --- love --- zhangixaoshuai\n"
     ]
    }
   ],
   "source": [
    "# 2.双层元祖遍历\n",
    "t = ((1,2,3),(2,3,4),(\"i\",\"love\",\"zhangixaoshuai\"))\n",
    "\n",
    "# 对于以上元祖的遍历，可以如下\n",
    "\n",
    "for i in t:\n",
    "    print(i)\n",
    "for k,m,n in t:\n",
    "    print(k,'---',m,'---',n)"
   ]
  }
 ],
 "metadata": {
  "kernelspec": {
   "display_name": "Python 3",
   "language": "python",
   "name": "python3"
  },
  "language_info": {
   "codemirror_mode": {
    "name": "ipython",
    "version": 3
   },
   "file_extension": ".py",
   "mimetype": "text/x-python",
   "name": "python",
   "nbconvert_exporter": "python",
   "pygments_lexer": "ipython3",
   "version": "3.6.5"
  }
 },
 "nbformat": 4,
 "nbformat_minor": 2
}
