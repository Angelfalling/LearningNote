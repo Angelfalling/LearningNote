{
 "cells": [
  {
   "cell_type": "code",
   "execution_count": 3,
   "metadata": {},
   "outputs": [
    {
     "name": "stdout",
     "output_type": "stream",
     "text": [
      "(<class '__main__.A'>, <class 'object'>)\n",
      "(<class '__main__.B'>, <class '__main__.A'>, <class 'object'>)\n"
     ]
    }
   ],
   "source": [
    "class A():\n",
    "    pass\n",
    "class B(A):\n",
    "    pass\n",
    "\n",
    "print(A.__mro__)\n",
    "print(B.__mro__)"
   ]
  },
  {
   "cell_type": "code",
   "execution_count": 23,
   "metadata": {},
   "outputs": [
    {
     "name": "stdout",
     "output_type": "stream",
     "text": [
      "I am flying....\n",
      "working\n",
      "I am swimming....\n",
      "working\n",
      "I am swimming....\n"
     ]
    }
   ],
   "source": [
    "# 多继承的例子\n",
    "\n",
    "class Fish():\n",
    "    def __init__(self,name):\n",
    "        self.name = name\n",
    "    def swim(self):\n",
    "        print(\"I am swimming....\")\n",
    "\n",
    "class Bird():\n",
    "    def __init_(self,name):\n",
    "        self.name = name\n",
    "    def fly(self):\n",
    "        print(\"I am flying....\")\n",
    "\n",
    "class Person():\n",
    "    def __init__(self,name):\n",
    "        self.name = name\n",
    "    def work(self):\n",
    "        print(\"working\")\n",
    "\n",
    "class Superman(Person,Bird,Fish):\n",
    "    def __init__(self,name):\n",
    "        self.name = name\n",
    "        \n",
    "s = Superman(\"yueyue\")\n",
    "s.fly()\n",
    "s.work()\n",
    "s.swim()\n",
    "\n",
    "# 单继承的例子\n",
    "class Student(Person):\n",
    "    def __init__(self,name):\n",
    "        self.name = name\n",
    "s = Student(\"yueyue\")\n",
    "s.work()\n",
    "\n",
    "class SwimMan(Person,Fish):\n",
    "    def __init__(self,name):\n",
    "        self.name = name\n",
    "stu = SwimMan(\"yueyue\")\n",
    "stu.swim()\n"
   ]
  },
  {
   "cell_type": "code",
   "execution_count": 25,
   "metadata": {},
   "outputs": [
    {
     "name": "stdout",
     "output_type": "stream",
     "text": [
      "In init func\n"
     ]
    }
   ],
   "source": [
    "# 构造函数的例子\n",
    "\n",
    "class Person():\n",
    "    # 对person进行实例化的时候\n",
    "    # 姓名要确定\n",
    "    # 年龄要确定\n",
    "    # 地址肯定有\n",
    "    \n",
    "    def __init__(self):\n",
    "        self.name = \"NoName\"\n",
    "        self.age = 18\n",
    "        self.address = \"here\"\n",
    "        print(\"In init func\")\n",
    "# 实例化一个人\n",
    "p = Person()"
   ]
  },
  {
   "cell_type": "code",
   "execution_count": 29,
   "metadata": {},
   "outputs": [
    {
     "name": "stdout",
     "output_type": "stream",
     "text": [
      "B\n"
     ]
    }
   ],
   "source": [
    "# 构造函数的调用顺序\n",
    "# 如果子类没有写构造函数，则自动向上查找，知道找到位置\n",
    "\n",
    "class A():\n",
    "    def __init__(self):\n",
    "        print(\"A\")\n",
    "        \n",
    "class B():\n",
    "    def __init__(self):\n",
    "        print(\"B\")\n",
    "class C(B):\n",
    "    pass\n",
    "    \n",
    "c = C()\n"
   ]
  },
  {
   "cell_type": "code",
   "execution_count": 31,
   "metadata": {},
   "outputs": [
    {
     "ename": "TypeError",
     "evalue": "__init__() missing 1 required positional argument: 'nae'",
     "output_type": "error",
     "traceback": [
      "\u001b[0;31m---------------------------------------------------------------------------\u001b[0m",
      "\u001b[0;31mTypeError\u001b[0m                                 Traceback (most recent call last)",
      "\u001b[0;32m<ipython-input-31-4d8c01225c1b>\u001b[0m in \u001b[0;36m<module>\u001b[0;34m()\u001b[0m\n\u001b[1;32m     22\u001b[0m     '''\n\u001b[1;32m     23\u001b[0m \u001b[0;34m\u001b[0m\u001b[0m\n\u001b[0;32m---> 24\u001b[0;31m \u001b[0mc\u001b[0m \u001b[0;34m=\u001b[0m \u001b[0mC\u001b[0m\u001b[0;34m(\u001b[0m\u001b[0;34m)\u001b[0m\u001b[0;34m\u001b[0m\u001b[0m\n\u001b[0m",
      "\u001b[0;31mTypeError\u001b[0m: __init__() missing 1 required positional argument: 'nae'"
     ]
    }
   ],
   "source": [
    "# 构造函数的调用顺序\n",
    "\n",
    "class A():\n",
    "    def __init__(self):\n",
    "        print(\"A\")\n",
    "        \n",
    "class B():\n",
    "    def __init__(self,nae):\n",
    "        print(\"B\")\n",
    "        print(name)\n",
    "class C(B):\n",
    "    # C中想扩展B的构造函数\n",
    "    # 调用B的构造函数后再添加一些功能\n",
    "    # 有两种方法实现\n",
    "    # 第一中通过父类名调用\n",
    "    '''\n",
    "    def __init__(self,name)\n",
    "        # 首先调用父类的构造函数\n",
    "        B.__init__(self,name)\n",
    "        # 其次，在增加自己的功能\n",
    "        print(\"这是C的内容\")\n",
    "    '''\n",
    "    #第二种通过super调用\n",
    "    \n",
    "    '''\n",
    "    def __init__(self,name)\n",
    "        # 首先调用父类的构造函数\n",
    "        super(C,self).__init__(name)\n",
    "        # 其次，再增加自己的功能\n",
    "        print(\"这是C的内容\")\n",
    "    '''\n",
    "c = C()\n"
   ]
  },
  {
   "cell_type": "code",
   "execution_count": null,
   "metadata": {},
   "outputs": [],
   "source": []
  }
 ],
 "metadata": {
  "kernelspec": {
   "display_name": "Python 3",
   "language": "python",
   "name": "python3"
  },
  "language_info": {
   "codemirror_mode": {
    "name": "ipython",
    "version": 3
   },
   "file_extension": ".py",
   "mimetype": "text/x-python",
   "name": "python",
   "nbconvert_exporter": "python",
   "pygments_lexer": "ipython3",
   "version": "3.6.5"
  }
 },
 "nbformat": 4,
 "nbformat_minor": 2
}
