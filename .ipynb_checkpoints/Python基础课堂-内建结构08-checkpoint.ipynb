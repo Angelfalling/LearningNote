{
 "cells": [
  {
   "cell_type": "markdown",
   "metadata": {},
   "source": [
    "# 元祖的函数\n",
    "- len:\n",
    "- 以下看代码\n"
   ]
  },
  {
   "cell_type": "code",
   "execution_count": 2,
   "metadata": {},
   "outputs": [
    {
     "data": {
      "text/plain": [
       "5"
      ]
     },
     "execution_count": 2,
     "metadata": {},
     "output_type": "execute_result"
    }
   ],
   "source": [
    "#len:获取元祖的长度\n",
    "ｔ = (1,2,3,4,5)\n",
    "len(t)"
   ]
  },
  {
   "cell_type": "code",
   "execution_count": 4,
   "metadata": {},
   "outputs": [
    {
     "name": "stdout",
     "output_type": "stream",
     "text": [
      "5\n",
      "1\n"
     ]
    }
   ],
   "source": [
    "# max,min最大值，最小值\n",
    "#　如果，列表或元祖中有多个最大值、最小值，则实际打印出哪个\n",
    "print(max(t))\n",
    "print(min(t))"
   ]
  },
  {
   "cell_type": "code",
   "execution_count": 7,
   "metadata": {},
   "outputs": [
    {
     "name": "stdout",
     "output_type": "stream",
     "text": [
      "(1, 2, 3, 4, 5)\n",
      "()\n"
     ]
    }
   ],
   "source": [
    "# tuple：转化或创建元祖\n",
    "ｌ = [1,2,3,4,5]\n",
    "t = tuple(l)\n",
    "print(t)\n",
    "\n",
    "t = tuple()\n",
    "print(t)"
   ]
  },
  {
   "cell_type": "markdown",
   "metadata": {},
   "source": [
    "# 元祖的函数\n",
    "- 基本跟list通用\n"
   ]
  },
  {
   "cell_type": "code",
   "execution_count": 11,
   "metadata": {},
   "outputs": [
    {
     "name": "stdout",
     "output_type": "stream",
     "text": [
      "3\n",
      "5\n"
     ]
    }
   ],
   "source": [
    "# count:计算指定数据出现的次数\n",
    "ｔ= (2,1,2,3,4,45,3,2)\n",
    "\n",
    "print(t.count(2))\n",
    "\n",
    "# index:求指定元素的索引值\n",
    "print(t.index(45))\n"
   ]
  },
  {
   "cell_type": "markdown",
   "metadata": {},
   "source": [
    "# 元祖变量交换法\n",
    "- 两个变量交换值\n"
   ]
  },
  {
   "cell_type": "code",
   "execution_count": 14,
   "metadata": {},
   "outputs": [
    {
     "name": "stdout",
     "output_type": "stream",
     "text": [
      "1\n",
      "3\n",
      "3\n",
      "1\n",
      "********************\n",
      "1\n",
      "3\n"
     ]
    }
   ],
   "source": [
    "# 两个变量交换值\n",
    "ａ = 1\n",
    "b = 3 \n",
    "\n",
    "print(a)\n",
    "print(b)\n",
    "\n",
    "#java程序员\n",
    "ｃ = a\n",
    "a = b\n",
    "b = c\n",
    "print(a)\n",
    "print(b)\n",
    "\n",
    "print(\"*\" * 20)\n",
    "#python的写法\n",
    "ａ,b = b,a\n",
    "print(a)\n",
    "print(b)"
   ]
  },
  {
   "cell_type": "markdown",
   "metadata": {},
   "source": [
    "# 集合－set\n",
    "- 集合是高中数学的一个概念\n",
    "- 一堆确定无序的唯一的数据，集合中每一个数据成为一个元素"
   ]
  },
  {
   "cell_type": "code",
   "execution_count": 19,
   "metadata": {},
   "outputs": [
    {
     "name": "stdout",
     "output_type": "stream",
     "text": [
      "<class 'set'>\n",
      "set()\n",
      "{1, 2, 3, 4, 5}\n"
     ]
    }
   ],
   "source": [
    "# 集合的定义\n",
    "s = set()\n",
    "print(type(s))\n",
    "print(s)\n",
    "\n",
    "# 此时，大括号内一定要有值，否则定义出的是一个dict\n",
    "s = {1,2,3,4,5}\n",
    "print(s)"
   ]
  },
  {
   "cell_type": "code",
   "execution_count": 18,
   "metadata": {},
   "outputs": [
    {
     "name": "stdout",
     "output_type": "stream",
     "text": [
      "<class 'dict'>\n",
      "{}\n"
     ]
    }
   ],
   "source": [
    "# 如果只是大括号定义，则定义的是一个dict类型\n",
    "d = {}\n",
    "print(type(d))\n",
    "print(d)"
   ]
  },
  {
   "cell_type": "markdown",
   "metadata": {},
   "source": [
    "# 集合的特征\n",
    "- 集合的数据无序，即无法使用索引和分片\n",
    "- 集合内部数据元素具有唯一性，可以用来排除重复数据\n",
    "- 集合内部的数据，str,int，float,tuple，冰冻集合等即内部只能防止哈希数据\n",
    "\n"
   ]
  },
  {
   "cell_type": "code",
   "execution_count": 22,
   "metadata": {},
   "outputs": [
    {
     "name": "stdout",
     "output_type": "stream",
     "text": [
      "{4, 5, 'i', 'zhangxiaoshuai', 'love'}\n",
      "爱呀\n",
      "爱个锤子\n"
     ]
    }
   ],
   "source": [
    "# 成员检测\n",
    "# in,not in\n",
    "s = {4,5,\"i\",\"love\",\"zhangxiaoshuai\"}\n",
    "print(s)\n",
    "\n",
    "if \"love\" in s:\n",
    "    print(\"爱呀\")\n",
    "    \n",
    "if \"haha\" not in s:\n",
    "    print(\"爱个锤子\")"
   ]
  },
  {
   "cell_type": "markdown",
   "metadata": {},
   "source": [
    "# 集合遍历操作"
   ]
  },
  {
   "cell_type": "code",
   "execution_count": 25,
   "metadata": {},
   "outputs": [
    {
     "name": "stdout",
     "output_type": "stream",
     "text": [
      "4 5 i zhangxiaoshuai love "
     ]
    }
   ],
   "source": [
    "# for 循环\n",
    "s = {4,5,\"i\",\"love\",\"zhangxiaoshuai\"}\n",
    "\n",
    "for i in s:\n",
    "        print(i,end=\" \")"
   ]
  },
  {
   "cell_type": "code",
   "execution_count": 39,
   "metadata": {},
   "outputs": [
    {
     "name": "stdout",
     "output_type": "stream",
     "text": [
      "i -- love -- zhangxiaoshuai\n",
      "4 -- 5 -- 6\n",
      "1 -- 2 -- 3\n",
      "('i', 'love', 'zhangxiaoshuai')\n",
      "(4, 5, 6)\n",
      "(1, 2, 3)\n"
     ]
    }
   ],
   "source": [
    "# 带有元祖的集合遍历\n",
    "s = {(1,2,3),(\"i\",\"love\",\"zhangxiaoshuai\"),(4,5,6)}\n",
    "\n",
    "for k,m,n in s:\n",
    "    print(k,\"--\",m,\"--\",n)\n",
    "    \n",
    "for k in s:\n",
    "    print(k)"
   ]
  },
  {
   "cell_type": "markdown",
   "metadata": {},
   "source": [
    "# 集合的内涵"
   ]
  },
  {
   "cell_type": "code",
   "execution_count": 41,
   "metadata": {},
   "outputs": [
    {
     "name": "stdout",
     "output_type": "stream",
     "text": [
      "{545, 1, 3, 2, 4, 23, 223}\n",
      "{545, 2, 3, 4, 1, 23, 223}\n"
     ]
    }
   ],
   "source": [
    "# 普通的集合内涵\n",
    "s = {23,223,545,3,1,2,3,4,3,2,3,1,2,4,3}\n",
    "print(s)\n",
    "\n",
    "# 普通集合内涵\n",
    "ss = {i for i in s}\n",
    "print(ss)"
   ]
  },
  {
   "cell_type": "code",
   "execution_count": 44,
   "metadata": {},
   "outputs": [
    {
     "name": "stdout",
     "output_type": "stream",
     "text": [
      "{2, 4}\n"
     ]
    }
   ],
   "source": [
    "# 待条件的集合耐寒\n",
    "sss = {i for i in s if i % 2 == 0}\n",
    "print(sss)"
   ]
  },
  {
   "cell_type": "code",
   "execution_count": 47,
   "metadata": {},
   "outputs": [
    {
     "name": "stdout",
     "output_type": "stream",
     "text": [
      "{'ii', 'zhaixiaoshuaizhaixiaoshuai', 'lovelove'}\n"
     ]
    }
   ],
   "source": [
    "# 多循环的集合内涵\n",
    "s1 = {1,2,3,4,}\n",
    "s2 = {\"i\",\"love\",\"zhaixiaoshuai\"}\n",
    " \n",
    "s = {m*n for m in s2 for n in s1 if n == 2}\n",
    "print(s)"
   ]
  },
  {
   "cell_type": "code",
   "execution_count": 51,
   "metadata": {},
   "outputs": [
    {
     "name": "stdout",
     "output_type": "stream",
     "text": [
      "5\n",
      "3234\n",
      "5\n"
     ]
    }
   ],
   "source": [
    "# 集合函数/关于集合的函数\n",
    "# len,max,min,跟其他基本函数一致\n",
    "s = {23,3234,5,43,345,345,345}\n",
    "print(len(s))\n",
    "print(max(s))\n",
    "print(min(s))\n"
   ]
  },
  {
   "cell_type": "code",
   "execution_count": 53,
   "metadata": {},
   "outputs": [
    {
     "name": "stdout",
     "output_type": "stream",
     "text": [
      "{1, 2, 3, 4, 5, 6, 7}\n"
     ]
    }
   ],
   "source": [
    "# set：生成一个集合\n",
    "l = [1,2,3,4,5,6,7,7,7]\n",
    "s = set(l)\n",
    "print(s)"
   ]
  },
  {
   "cell_type": "code",
   "execution_count": 55,
   "metadata": {},
   "outputs": [
    {
     "name": "stdout",
     "output_type": "stream",
     "text": [
      "{1, 233}\n"
     ]
    }
   ],
   "source": [
    "# add 向集合内添加元素\n",
    "s = {1}\n",
    "s.add(233)\n",
    "print(s)"
   ]
  },
  {
   "cell_type": "code",
   "execution_count": 58,
   "metadata": {},
   "outputs": [
    {
     "name": "stdout",
     "output_type": "stream",
     "text": [
      "140015536277320\n",
      "set()\n",
      "140015536277320\n"
     ]
    }
   ],
   "source": [
    "# clear\n",
    "s = {1,2,3,4}\n",
    "print(id(s))\n",
    "s.clear()\n",
    "print(s)\n",
    "\n",
    "print(id(s))"
   ]
  },
  {
   "cell_type": "code",
   "execution_count": 63,
   "metadata": {},
   "outputs": [
    {
     "name": "stdout",
     "output_type": "stream",
     "text": [
      "{1, 2, 3, 5, 23}\n",
      "{2, 3, 5, 23}\n",
      "********************\n",
      "{2, 3, 5, 23}\n"
     ]
    },
    {
     "ename": "KeyError",
     "evalue": "1100",
     "output_type": "error",
     "traceback": [
      "\u001b[0;31m---------------------------------------------------------------------------\u001b[0m",
      "\u001b[0;31mKeyError\u001b[0m                                  Traceback (most recent call last)",
      "\u001b[0;32m<ipython-input-63-a0cfd57bd9f9>\u001b[0m in \u001b[0;36m<module>\u001b[0;34m()\u001b[0m\n\u001b[1;32m     12\u001b[0m \u001b[0mprint\u001b[0m\u001b[0;34m(\u001b[0m\u001b[0ms\u001b[0m\u001b[0;34m)\u001b[0m\u001b[0;34m\u001b[0m\u001b[0m\n\u001b[1;32m     13\u001b[0m \u001b[0;34m\u001b[0m\u001b[0m\n\u001b[0;32m---> 14\u001b[0;31m \u001b[0ms\u001b[0m\u001b[0;34m.\u001b[0m\u001b[0mremove\u001b[0m\u001b[0;34m(\u001b[0m\u001b[0;36m1100\u001b[0m\u001b[0;34m)\u001b[0m\u001b[0;34m\u001b[0m\u001b[0m\n\u001b[0m\u001b[1;32m     15\u001b[0m \u001b[0mprint\u001b[0m\u001b[0;34m(\u001b[0m\u001b[0ms\u001b[0m\u001b[0;34m)\u001b[0m\u001b[0;34m\u001b[0m\u001b[0m\n",
      "\u001b[0;31mKeyError\u001b[0m: 1100"
     ]
    }
   ],
   "source": [
    "# copy：拷贝\n",
    "# remove:移除指定的值，直接改变原有值，如果要删除的额值不存在，报错\n",
    "# discard:移除集合中指定的值，跟remove一样，但是入股要删除的话，不报错\n",
    "s = {23,3,4,5,1,2,3}\n",
    "s.remove(4)\n",
    "print(s)\n",
    "s.discard(1)\n",
    "print(s)\n",
    "\n",
    "print(\"*\" * 20)\n",
    "s.discard(1100)\n",
    "print(s)\n",
    "\n",
    "s.remove(1100)\n",
    "print(s)"
   ]
  },
  {
   "cell_type": "code",
   "execution_count": 65,
   "metadata": {},
   "outputs": [
    {
     "name": "stdout",
     "output_type": "stream",
     "text": [
      "1\n",
      "{2, 3, 4, 5, 6, 7}\n"
     ]
    }
   ],
   "source": [
    "# pop 随机一处一个元素\n",
    "s = {1,2,3,4,5,5,6,7}\n",
    "d = s.pop()\n",
    "print(d)\n",
    "print(s)"
   ]
  },
  {
   "cell_type": "code",
   "execution_count": 68,
   "metadata": {},
   "outputs": [
    {
     "name": "stdout",
     "output_type": "stream",
     "text": [
      "{5, 6}\n",
      "{1, 2, 3, 4}\n",
      "False\n"
     ]
    }
   ],
   "source": [
    "# 集合函数\n",
    "# intersection：交集\n",
    "# difference:差集\n",
    "# union:并集\n",
    "# issubset:检查一个集合是否为另一个自己\n",
    "# issuperset:检查一个集合是否为另一个超集\n",
    "s1 = {1,2,3,4,5,6}\n",
    "s2 = {5,6,7,8,9}\n",
    "\n",
    "ss = s1.intersection(s2)\n",
    "print(ss)\n",
    "\n",
    "sss = s1.difference(s2)\n",
    "print(sss)\n",
    "\n",
    "ssss = s1.issubset(s2)\n",
    "print(ssss)"
   ]
  },
  {
   "cell_type": "markdown",
   "metadata": {},
   "source": [
    "# 集合的数据操作"
   ]
  },
  {
   "cell_type": "code",
   "execution_count": 70,
   "metadata": {},
   "outputs": [
    {
     "name": "stdout",
     "output_type": "stream",
     "text": [
      "{1, 2, 3, 4}\n"
     ]
    }
   ],
   "source": [
    "s1 = {1,2,3,4,5,6}\n",
    "s2 = {5,6,7,8,9}\n",
    "\n",
    "s_1 = s1 - s2\n",
    "print(s_1)"
   ]
  },
  {
   "cell_type": "markdown",
   "metadata": {},
   "source": [
    "# frozen set:冰冻集合"
   ]
  },
  {
   "cell_type": "code",
   "execution_count": 113,
   "metadata": {},
   "outputs": [
    {
     "name": "stdout",
     "output_type": "stream",
     "text": [
      "<class 'frozenset'>\n",
      "frozenset()\n"
     ]
    }
   ],
   "source": [
    "# 冰冻集合就是不能修改的集合,是一种特殊集合\n",
    "# 创建\n",
    "s = frozenset()\n",
    "print(type(s))\n",
    "print(s)"
   ]
  },
  {
   "cell_type": "markdown",
   "metadata": {},
   "source": [
    "# dict字典\n",
    "- 字典是一种组合数据，没有顺序的组合数据，数据以键值方式出现"
   ]
  },
  {
   "cell_type": "code",
   "execution_count": 81,
   "metadata": {},
   "outputs": [
    {
     "name": "stdout",
     "output_type": "stream",
     "text": [
      "{}\n",
      "{}\n",
      "{'one': 1, 'two': 2, 'three': 3}\n",
      "{'one': 1, 'two': 2, 'three': 3}\n",
      "{'one': 1, 'two': 2, 'three': 3}\n"
     ]
    }
   ],
   "source": [
    "# 字典的创建\n",
    "d = {}\n",
    "print(d)\n",
    "\n",
    "d = dict()\n",
    "print(d)\n",
    "\n",
    "# 创建有值的字典\n",
    "d = {\"one\":1,\"two\":2,\"three\":3}\n",
    "print(d)\n",
    "\n",
    "d = dict({\"one\":1,\"two\":2,\"three\":3})\n",
    "print(d)\n",
    "\n",
    "# 用dict创建有内容字典2\n",
    "# 利用关键字参数\n",
    "d = dict(one=1,two=2,three=3)\n",
    "print(d)"
   ]
  },
  {
   "cell_type": "markdown",
   "metadata": {},
   "source": [
    "# 字典的特征\n",
    "- 字典是序列类型，但是是无序序列，所以没有分片和索引\n",
    "- 字典中的数据每个都有键值对组成，即kv对\n",
    "    - key：必须是可哈希的值，比如，int,string,float,tuple，但是list,dict,set不行\n",
    "    - value:任何值"
   ]
  },
  {
   "cell_type": "markdown",
   "metadata": {},
   "source": [
    "## 字典常见操作"
   ]
  },
  {
   "cell_type": "code",
   "execution_count": 84,
   "metadata": {},
   "outputs": [
    {
     "name": "stdout",
     "output_type": "stream",
     "text": [
      "1\n",
      "{'one': 'else', 'two': 2, 'three': 3}\n",
      "{'two': 2, 'three': 3}\n"
     ]
    }
   ],
   "source": [
    "# 访问数据\n",
    "d = {\"one\":1,\"two\":2,\"three\":3}\n",
    "# 注意访问格式\n",
    "# 中括号内是键值\n",
    "print(d[\"one\"])\n",
    "\n",
    "d[\"one\"] = \"else\"\n",
    "print(d)\n",
    "\n",
    "# 删除某个操作\n",
    "# 使用del操作\n",
    "del d[\"one\"]\n",
    "print(d)"
   ]
  },
  {
   "cell_type": "code",
   "execution_count": 88,
   "metadata": {},
   "outputs": [
    {
     "name": "stdout",
     "output_type": "stream",
     "text": [
      "key\n"
     ]
    }
   ],
   "source": [
    "# 成员检测，in，not in\n",
    "d = {\"one\":1,\"two\":2,\"three\":3}\n",
    "\n",
    "if 2 in d:\n",
    "    print(\"value\")\n",
    "if \"two\" in d: \n",
    "    print(\"key\")\n",
    "if (\"two\",2) in d:\n",
    "    print(\"kv\")"
   ]
  },
  {
   "cell_type": "code",
   "execution_count": 95,
   "metadata": {},
   "outputs": [
    {
     "name": "stdout",
     "output_type": "stream",
     "text": [
      "one 1\n",
      "two 2\n",
      "three 3\n",
      "1\n",
      "2\n",
      "3\n",
      "one -- 1\n",
      "two -- 2\n",
      "three -- 3\n"
     ]
    }
   ],
   "source": [
    "# 使用python2和3中区别较大，代码不通用\n",
    "# key来使用for循环\n",
    "d = {\"one\":1,\"two\":2,\"three\":3}\n",
    "#使用for循环，直接按key值访问\n",
    "for k in d:\n",
    "    print(k,d[k])\n",
    "#上述代码可以改写成如下\n",
    "for v in d.values():\n",
    "    print(v)\n",
    "    \n",
    "#\n",
    "for k,v in d.items():\n",
    "    print(k,'--',v)"
   ]
  },
  {
   "cell_type": "markdown",
   "metadata": {},
   "source": [
    "# 字典生成式\n",
    "\n"
   ]
  },
  {
   "cell_type": "code",
   "execution_count": 98,
   "metadata": {},
   "outputs": [
    {
     "name": "stdout",
     "output_type": "stream",
     "text": [
      "{'one': 1, 'two': 2, 'three': 3}\n",
      "{'two': 2}\n"
     ]
    }
   ],
   "source": [
    "d = {\"one\":1,\"two\":2,\"three\":3}\n",
    "# 常规字典生成式\n",
    "dd = {k:v for k,v,in d.items()}\n",
    "print(dd)\n",
    "\n",
    "# 加限制条件的字典生成式\n",
    "dd = {k:v for k,v,in d.items() if v % 2 == 0 }\n",
    "\n",
    "print(dd)"
   ]
  },
  {
   "cell_type": "markdown",
   "metadata": {},
   "source": [
    "# 字典相关函数"
   ]
  },
  {
   "cell_type": "code",
   "execution_count": 100,
   "metadata": {},
   "outputs": [
    {
     "name": "stdout",
     "output_type": "stream",
     "text": [
      "{'one': 1, 'two': 2, 'three': 3}\n"
     ]
    }
   ],
   "source": [
    "# 通用函数：len，max,min,dict\n",
    "# str(字符串)：返回字典的字符串格式\n",
    "d = {\"one\":1,\"two\":2,\"three\":3}\n",
    "print(str(d))\n"
   ]
  },
  {
   "cell_type": "code",
   "execution_count": 102,
   "metadata": {},
   "outputs": [
    {
     "name": "stdout",
     "output_type": "stream",
     "text": [
      "<class 'dict_items'>\n",
      "dict_items([('one', 1), ('two', 2), ('three', 3)])\n"
     ]
    }
   ],
   "source": [
    "# clear:清空字符串\n",
    "# items:返回字典的键值对组成的元祖格式\n",
    "d = {\"one\":1,\"two\":2,\"three\":3}\n",
    "i = d.items()\n",
    "print(type(i))\n",
    "print(i)"
   ]
  },
  {
   "cell_type": "code",
   "execution_count": 104,
   "metadata": {},
   "outputs": [
    {
     "name": "stdout",
     "output_type": "stream",
     "text": [
      "<class 'dict_keys'>\n",
      "dict_keys(['one', 'two', 'three'])\n"
     ]
    }
   ],
   "source": [
    "# keys；返回字典键组成的一个结构\n",
    "k = d.keys()\n",
    "print(type(k))\n",
    "print(k)"
   ]
  },
  {
   "cell_type": "code",
   "execution_count": 106,
   "metadata": {},
   "outputs": [
    {
     "name": "stdout",
     "output_type": "stream",
     "text": [
      "<class 'dict_values'>\n",
      "dict_values([1, 2, 3])\n"
     ]
    }
   ],
   "source": [
    " # values:返回字典组成的可迭代的结构\n",
    "v = d.values()\n",
    "print(type(v))\n",
    "print(v)"
   ]
  },
  {
   "cell_type": "code",
   "execution_count": 110,
   "metadata": {},
   "outputs": [
    {
     "name": "stdout",
     "output_type": "stream",
     "text": [
      "None\n",
      "1\n",
      "100\n"
     ]
    },
    {
     "ename": "KeyError",
     "evalue": "'on333'",
     "output_type": "error",
     "traceback": [
      "\u001b[0;31m---------------------------------------------------------------------------\u001b[0m",
      "\u001b[0;31mKeyError\u001b[0m                                  Traceback (most recent call last)",
      "\u001b[0;32m<ipython-input-110-a88f5df6a930>\u001b[0m in \u001b[0;36m<module>\u001b[0;34m()\u001b[0m\n\u001b[1;32m      6\u001b[0m \u001b[0mprint\u001b[0m\u001b[0;34m(\u001b[0m\u001b[0md\u001b[0m\u001b[0;34m.\u001b[0m\u001b[0mget\u001b[0m\u001b[0;34m(\u001b[0m\u001b[0;34m\"one333\"\u001b[0m\u001b[0;34m,\u001b[0m\u001b[0;36m100\u001b[0m\u001b[0;34m)\u001b[0m\u001b[0;34m)\u001b[0m\u001b[0;34m\u001b[0m\u001b[0m\n\u001b[1;32m      7\u001b[0m \u001b[0;31m# 体会以下代码和上面代码的区别\u001b[0m\u001b[0;34m\u001b[0m\u001b[0;34m\u001b[0m\u001b[0m\n\u001b[0;32m----> 8\u001b[0;31m \u001b[0mprint\u001b[0m\u001b[0;34m(\u001b[0m\u001b[0md\u001b[0m\u001b[0;34m[\u001b[0m\u001b[0;34m'on333'\u001b[0m\u001b[0;34m]\u001b[0m\u001b[0;34m)\u001b[0m\u001b[0;34m\u001b[0m\u001b[0m\n\u001b[0m",
      "\u001b[0;31mKeyError\u001b[0m: 'on333'"
     ]
    }
   ],
   "source": [
    "# get:根据指定的键返回相应的值，好处是，可以设置默认值\n",
    "d = {\"one\":1,\"two\":2,\"three\":3}\n",
    "print(d.get(\"on333\"))\n",
    "# get的默认值是None,可以设置\n",
    "print(d.get(\"one\",100))\n",
    "print(d.get(\"one333\",100))\n",
    "# 体会以下代码和上面代码的区别\n",
    "print(d['on333'])"
   ]
  },
  {
   "cell_type": "code",
   "execution_count": 112,
   "metadata": {},
   "outputs": [
    {
     "name": "stdout",
     "output_type": "stream",
     "text": [
      "{'eins': 'hahahaha', 'zewe': 'hahahaha', 'werwe': 'hahahaha'}\n"
     ]
    }
   ],
   "source": [
    "# formkeys:使用指定的序列作为键，使用一个值作为字典的所有的键的值\n",
    "l = [\"eins\",\"zewe\",\"werwe\"]\n",
    "# 注意formkeys两个参数的类型\n",
    "# 注意formkeys的调用主体\n",
    "d  = dict.fromkeys(l,\"hahahaha\")\n",
    "print(d)"
   ]
  }
 ],
 "metadata": {
  "kernelspec": {
   "display_name": "Python 3",
   "language": "python",
   "name": "python3"
  },
  "language_info": {
   "codemirror_mode": {
    "name": "ipython",
    "version": 3
   },
   "file_extension": ".py",
   "mimetype": "text/x-python",
   "name": "python",
   "nbconvert_exporter": "python",
   "pygments_lexer": "ipython3",
   "version": "3.6.5"
  }
 },
 "nbformat": 4,
 "nbformat_minor": 2
}
