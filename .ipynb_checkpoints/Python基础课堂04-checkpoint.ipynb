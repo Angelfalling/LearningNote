{
 "cells": [
  {
   "cell_type": "markdown",
   "metadata": {},
   "source": [
    "# while循环\n",
    "- 一个循环语句\n",
    "- 表示当某条件成立的时候，就循环\n",
    "- 不知道具体循环次数，但能确定循环的成立条件时候使用while循环\n",
    "- while语法\n",
    "\n",
    "        while 条件表达式：\n",
    "            语句块\n",
    "            \n",
    "        # 另外一种表达方法\n",
    "        while 条件表达式\n",
    "            语句块1\n",
    "        else\n",
    "            语句块2\n",
    "            "
   ]
  },
  {
   "cell_type": "code",
   "execution_count": 5,
   "metadata": {},
   "outputs": [
    {
     "name": "stdout",
     "output_type": "stream",
     "text": [
      "第1年拿了106700.0块钱\n",
      "第2年拿了113848.9块钱\n",
      "第3年拿了121476.77629999998块钱\n",
      "第4年拿了129615.72031209998块钱\n",
      "第5年拿了138299.97357301068块钱\n",
      "第6年拿了147566.07180240238块钱\n",
      "第7年拿了157452.99861316333块钱\n",
      "第8年拿了168002.34952024528块钱\n",
      "第9年拿了179258.5069381017块钱\n",
      "第10年拿了191268.8269029545块钱\n",
      "第11年拿了204083.83830545243块钱\n",
      "大爷的，终于翻倍了\n"
     ]
    }
   ],
   "source": [
    "# 如果说年利率是6.7%,本利是每年翻滚，则多少年后本钱会翻倍\n",
    "benqian = 100000\n",
    "year = 0\n",
    "while benqian < 200000:\n",
    "    benqian = benqian *(1+0.067)\n",
    "    year += 1\n",
    "    print(\"第{0}年拿了{1}块钱\".format(year,benqian))\n",
    "else:\n",
    "    print(\"大爷的，终于翻倍了\")\n",
    "    "
   ]
  },
  {
   "cell_type": "markdown",
   "metadata": {},
   "source": [
    "# 函数\n",
    "- 代码的一种组织形式\n",
    "- 一个函数一般完成一项特定的功能\n",
    "- 函数使用\n",
    "    - 函数需要先定义\n",
    "    - 使用函数，俗称调用\n",
    "    "
   ]
  },
  {
   "cell_type": "code",
   "execution_count": 10,
   "metadata": {},
   "outputs": [
    {
     "name": "stdout",
     "output_type": "stream",
     "text": [
      "我是一个函数\n",
      "我要完成一定功能\n",
      "我结束了\n"
     ]
    }
   ],
   "source": [
    "# 定义一个函数\n",
    "# 只是定义的话不会执行\n",
    "# 1. def 关键字后面跟一个空格\n",
    "# 2. 函数名，自己定义，起名需要遵守命名规则，预定俗称，大驼峰只给类用\n",
    "# 3. 后面括号和冒号不能省略，括号内可以由参数\n",
    "# 4. 函数内所有代码缩进\n",
    "\n",
    "def func():\n",
    "    print(\"我是一个函数\")\n",
    "    print(\"我要完成一定功能\")\n",
    "    print(\"我结束了\")\n",
    "func()"
   ]
  },
  {
   "cell_type": "code",
   "execution_count": 12,
   "metadata": {},
   "outputs": [
    {
     "name": "stdout",
     "output_type": "stream",
     "text": [
      "我是一个函数\n",
      "我要完成一定功能\n",
      "我结束了\n"
     ]
    }
   ],
   "source": [
    "# 函数的调用\n",
    "# 直接函数名后面跟一个括号\n",
    "func()"
   ]
  },
  {
   "cell_type": "markdown",
   "metadata": {},
   "source": [
    "### 函数的参数和返回值\n",
    "- 参数:负责给函数传递一些必要的数据或者信息\n",
    "    - 形参（形式参数）：在函数定义的时候用到的参数没有具体指，只是一个占位符，称为形参\n",
    "    - 实参（实际参数）：在调用时输入的值\n",
    "- 返回值：函数的执行结束\n",
    "    - 使用return返回执行结果\n",
    "    - 如果没有return,默认返回一个None\n",
    "    - 函数一旦执行return,则无条件返回\n"
   ]
  },
  {
   "cell_type": "code",
   "execution_count": 24,
   "metadata": {},
   "outputs": [
    {
     "name": "stdout",
     "output_type": "stream",
     "text": [
      "张小帅,你肿么了？\n",
      "Sir,你不理额就走咧\n",
      "我已经跟张小帅打过招呼了，张小帅不理我\n"
     ]
    }
   ],
   "source": [
    "# 参数的定义和使用\n",
    "\n",
    "def hello(person):\n",
    "    print(\"{0},你肿么了？\".format(person))\n",
    "    print(\"Sir,你不理额就走咧\")\n",
    "    \n",
    "    return \"我已经跟{0}打过招呼了，{1}不理我\".format(person,person)\n",
    "        \n",
    "person = \"张小帅\"\n",
    "name = hello(person)\n",
    "print(name)"
   ]
  },
  {
   "cell_type": "code",
   "execution_count": 26,
   "metadata": {},
   "outputs": [
    {
     "name": "stdout",
     "output_type": "stream",
     "text": [
      "张小帅,你肿么了？\n",
      "我已经跟张小帅打过招呼了，张小帅不理我\n"
     ]
    }
   ],
   "source": [
    "# return案例2\n",
    "\n",
    "def hello(person):\n",
    "    print(\"{0},你肿么了？\".format(person))\n",
    "    return \"我已经跟{0}打过招呼了，{1}不理我\".format(person,person)\n",
    "    print(\"{0},你肿么了？\".format(person))\n",
    "    print(\"Sir,你不理额就走咧\")\n",
    "    \n",
    "person = \"张小帅\"\n",
    "name = hello(person)\n",
    "print(name)"
   ]
  },
  {
   "cell_type": "code",
   "execution_count": 45,
   "metadata": {},
   "outputs": [
    {
     "name": "stdout",
     "output_type": "stream",
     "text": [
      "---------\n",
      "1 * 1 = 1   ---------\n",
      "1 * 2 = 2   2 * 2 = 4   ---------\n",
      "1 * 3 = 3   2 * 3 = 6   3 * 3 = 9   ---------\n",
      "1 * 4 = 4   2 * 4 = 8   3 * 4 = 12   4 * 4 = 16   ---------\n",
      "1 * 5 = 5   2 * 5 = 10   3 * 5 = 15   4 * 5 = 20   5 * 5 = 25   ---------\n",
      "1 * 6 = 6   2 * 6 = 12   3 * 6 = 18   4 * 6 = 24   5 * 6 = 30   6 * 6 = 36   ---------\n",
      "1 * 7 = 7   2 * 7 = 14   3 * 7 = 21   4 * 7 = 28   5 * 7 = 35   6 * 7 = 42   7 * 7 = 49   ---------\n",
      "1 * 8 = 8   2 * 8 = 16   3 * 8 = 24   4 * 8 = 32   5 * 8 = 40   6 * 8 = 48   7 * 8 = 56   8 * 8 = 64   ---------\n",
      "1 * 9 = 9   2 * 9 = 18   3 * 9 = 27   4 * 9 = 36   5 * 9 = 45   6 * 9 = 54   7 * 9 = 63   8 * 9 = 72   9 * 9 = 81   ---------\n"
     ]
    }
   ],
   "source": [
    "# 九九乘法表\n",
    "def printline(num):\n",
    "    for i in range(1,num+1): \n",
    "        print(\"{0} * {1} = {2}\".format(i,num,i*num),end=\"   \")\n",
    "for i in range(0,10):\n",
    "    printline(i)\n",
    "    print(\"---------\")"
   ]
  },
  {
   "cell_type": "markdown",
   "metadata": {},
   "source": [
    "## 参数详解\n",
    "- python参考资料：HeadFirst Python -> 零基础入门学习python -> 流畅的Python\n",
    "- 参数分类\n",
    "    - 普通参数\n",
    "    - 默认参数\n",
    "    - 关键字参数\n",
    "    - 收集参数\n",
    "- 普通参数\n",
    "    - 参见上例\n",
    "    - 定义的时候直接定义变量名\n",
    "    - 调用的时候直接吧变量或者值放入制定位置\n",
    "    \n",
    "    \n",
    "            def 函数名 （参数1，参数2，......）：\n",
    "                函数名\n",
    "            \n",
    "            # 调用\n",
    "            函数名（value1,value2,.......)\n",
    "            # 调用的时候，具体参考的是位置，按位置赋值\n",
    "            \n",
    "- 默认参数\n",
    "    - 形参带有默认值\n",
    "    - 调用的时候，如果没有对应的形参赋值，则使用默认值\n",
    "        \n",
    "            def func_name(p1=v1,p2=v2....):\n",
    "                func_block\n",
    "            \n",
    "            #调用\n",
    "            \n",
    "            func_name()\n",
    "            value1 = 100\n",
    "            value2 = 200\n",
    "            func_name(value1,value2)"
   ]
  },
  {
   "cell_type": "code",
   "execution_count": 48,
   "metadata": {},
   "outputs": [],
   "source": [
    "# 默认参数实例\n",
    "# 报名函数，需要知道学生性别\n",
    "# 学习python的学生基本都是男生，所以，报名的时候如果没有特别制定，我们认为是男生\n",
    "\n",
    "def reg(name,age,gender= \"male\"):\n",
    "    if gender == \"male\":\n",
    "        print(\"{0} is {1},and he is a good student\".format(name,age))\n",
    "    else:\n",
    "        print(\"{0} is {1},and she is a good student\".format(name,age))"
   ]
  },
  {
   "cell_type": "code",
   "execution_count": 50,
   "metadata": {},
   "outputs": [
    {
     "name": "stdout",
     "output_type": "stream",
     "text": [
      "ming is 25,and he is a good student\n",
      "shuai is 25,and she is a good student\n"
     ]
    }
   ],
   "source": [
    "reg(\"ming\",25)\n",
    "reg(\"shuai\",25,\"femail\")"
   ]
  }
 ],
 "metadata": {
  "kernelspec": {
   "display_name": "Python 3",
   "language": "python",
   "name": "python3"
  },
  "language_info": {
   "codemirror_mode": {
    "name": "ipython",
    "version": 3
   },
   "file_extension": ".py",
   "mimetype": "text/x-python",
   "name": "python",
   "nbconvert_exporter": "python",
   "pygments_lexer": "ipython3",
   "version": "3.6.5"
  }
 },
 "nbformat": 4,
 "nbformat_minor": 2
}
