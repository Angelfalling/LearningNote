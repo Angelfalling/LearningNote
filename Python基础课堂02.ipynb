{
 "cells": [
  {
   "cell_type": "markdown",
   "metadata": {},
   "source": [
    "# 字符串\n",
    "- 转义字符\n",
    "- 格式化\n",
    "- 内联函数（后延）\n",
    "## 转义字符\n",
    "- 用一个特殊的方法表示出一系列不方便写出的内容，比如回车键，换行键，退格键\n",
    "- 借助反斜杠字符，一旦字符串中出现反斜杠，则反斜杠后面的一个或几个字符表示已经不是原来的意思了，进行了转义\n",
    "- 在字符串中，一旦出现反斜杠要加倍小心，可能由转义字符出现\n",
    "- 不同系统的换行符有不同的表示\n",
    "    - windows: \\n\n",
    "    - Linux: \\r\\n"
   ]
  },
  {
   "cell_type": "code",
   "execution_count": 2,
   "metadata": {},
   "outputs": [
    {
     "name": "stdout",
     "output_type": "stream",
     "text": [
      "I love zhangxiaoshaui\n"
     ]
    }
   ],
   "source": [
    "s = \"I love zhangxiaoshaui\"\n",
    "print(s)"
   ]
  },
  {
   "cell_type": "code",
   "execution_count": 25,
   "metadata": {},
   "outputs": [
    {
     "name": "stdout",
     "output_type": "stream",
     "text": [
      "Let's go\n",
      "Let's go\n",
      "C:\\user\n",
      "i love \r\n",
      " zhangxiaoshuai\n"
     ]
    }
   ],
   "source": [
    "# 如果想表示出Let's go\n",
    "# 1.可以使用嵌套引号，即外层使用双引号\n",
    "# 2.转义字符\n",
    "\n",
    "s = \"Let's go\"\n",
    "print(s)\n",
    "\n",
    "ss = 'Let\\'s go'\n",
    "print(ss)\n",
    "\n",
    "# \\\\ = '\\'\n",
    "sss = \"C:\\\\user\"\n",
    "print(sss)\n",
    "\n",
    "#回车换行符\n",
    "s1 = \"i love \\r\\n zhangxiaoshuai\"\n",
    "print(s1)"
   ]
  },
  {
   "cell_type": "markdown",
   "metadata": {},
   "source": [
    "## 字符串的格式化\n",
    "- 把字符串按照一定的格式打印或者填充\n",
    "- 格式化有两种方法\n",
    "    - 利用%\n",
    "    - 利用format()函数"
   ]
  },
  {
   "cell_type": "code",
   "execution_count": 28,
   "metadata": {},
   "outputs": [
    {
     "name": "stdout",
     "output_type": "stream",
     "text": [
      "xxx 你好，我家的猪丢了\n"
     ]
    }
   ],
   "source": [
    "s = \"xxx 你好，我家的猪丢了\"\n",
    "print(s)"
   ]
  },
  {
   "cell_type": "markdown",
   "metadata": {},
   "source": [
    "### 利用百分号格式化\n",
    "- 在字符串中，利用%号表示一个特殊的含义，表示对字符进行格式化\n",
    "- %d:此处应该放入一个整数\n",
    "- %s:此处应该放入一个字符串"
   ]
  },
  {
   "cell_type": "code",
   "execution_count": 54,
   "metadata": {},
   "outputs": [
    {
     "name": "stdout",
     "output_type": "stream",
     "text": [
      "I love %s\n"
     ]
    }
   ],
   "source": [
    "s = \"I love %s\" \n",
    "#下面打印，直接把字符串的一个内容打印出来\n",
    "print(s)"
   ]
  },
  {
   "cell_type": "code",
   "execution_count": 43,
   "metadata": {},
   "outputs": [
    {
     "name": "stdout",
     "output_type": "stream",
     "text": [
      "I love 张小帅\n"
     ]
    }
   ],
   "source": [
    "print(\"I love %s\"%\"张小帅\")\n"
   ]
  },
  {
   "cell_type": "code",
   "execution_count": 56,
   "metadata": {},
   "outputs": [
    {
     "name": "stdout",
     "output_type": "stream",
     "text": [
      "I love 张小帅\n"
     ]
    }
   ],
   "source": [
    "print( s% \"张小帅\")"
   ]
  },
  {
   "cell_type": "code",
   "execution_count": 61,
   "metadata": {},
   "outputs": [
    {
     "name": "stdout",
     "output_type": "stream",
     "text": [
      "I am %d years old\n",
      "I am 18 years old\n"
     ]
    }
   ],
   "source": [
    "s = \"I am %d years old\"\n",
    "#留意一下下面两句话的区别\n",
    "print(s)\n",
    "print(s%18)"
   ]
  },
  {
   "cell_type": "code",
   "execution_count": 64,
   "metadata": {},
   "outputs": [
    {
     "name": "stdout",
     "output_type": "stream",
     "text": [
      "I am %s,I am %d years old\n",
      "I am zhoumingming,I am 18 years old\n"
     ]
    }
   ],
   "source": [
    "s = \"I am %s,I am %d years old\"\n",
    "print(s)\n",
    "# 注意下面表达式出错的原因\n",
    "# 如果字符串中由占位符，则由几个占位符必须用几个实际内容替换，或者一个也不要\n",
    "print(s%(\"zhoumingming\",18))"
   ]
  },
  {
   "cell_type": "markdown",
   "metadata": {},
   "source": [
    "### 用format函数进行格式化\n",
    "- 直接用format函数进行格式化\n",
    "- 推荐使用这种方法\n",
    "- 在使用上以{}和：代替%号，后面用format带参数完成\n"
   ]
  },
  {
   "cell_type": "code",
   "execution_count": 75,
   "metadata": {},
   "outputs": [
    {
     "name": "stdout",
     "output_type": "stream",
     "text": [
      "I love 张小帅\n",
      "I am 18 yeras old,I love 张小帅 and I am 18 years old\n"
     ]
    }
   ],
   "source": [
    "s = \"I love {}\".format(\"张小帅\")\n",
    "print(s)\n",
    "      \n",
    "s = \"I am {1} yeras old,I love {0} and I am {1} years old\".format(\"张小帅\",18)\n",
    "print(s)"
   ]
  },
  {
   "cell_type": "markdown",
   "metadata": {},
   "source": [
    "## None\n",
    "- 表示什么都没有\n",
    "- 如果函数要以return结尾，可以返回None\n",
    "- 用来占位\n",
    "- 用来解除变量的绑定"
   ]
  },
  {
   "cell_type": "markdown",
   "metadata": {},
   "source": [
    "# 表达式\n",
    "- 由一个或者几个数字变量和运算符组合成的一行代码\n",
    "- 通常都会返回一个结果\n",
    "# 运算符\n",
    "- 由一个以上的值经过变化得到的新值的过程叫做运算\n",
    "- 用于运算的符号就叫做运算符\n",
    "- 运算符分类\n",
    "    - 算数运算符\n",
    "    - 比较或者关系运算符\n",
    "    - 赋值运算符\n",
    "    - 位运算\n",
    "    - 成员运算\n",
    "    - 逻辑运算符\n",
    "    - 身份运算符"
   ]
  },
  {
   "cell_type": "markdown",
   "metadata": {},
   "source": [
    "## 算数运算符\n",
    "- 进行算数运算的符号\n",
    "- python没有自增自减运算符"
   ]
  },
  {
   "cell_type": "code",
   "execution_count": 86,
   "metadata": {},
   "outputs": [
    {
     "name": "stdout",
     "output_type": "stream",
     "text": [
      "10\n",
      "36\n",
      "2.25\n",
      "1\n",
      "2\n",
      "6561\n"
     ]
    }
   ],
   "source": [
    "# +，-跟正常算数的一模一样\n",
    "a = 9+3-2\n",
    "print(a)\n",
    "# 乘号用（×）代替\n",
    "a = 9 * 4\n",
    "print(a)\n",
    "\n",
    "# 除号用斜杠代替（/）\n",
    "#在python2和python3中，/除号的结果可能不一致，此处3系列为准\n",
    "a = 9 / 4\n",
    "print(a)\n",
    "\n",
    "# % 取余运算\n",
    "# 两个数组相除应该由商数有余数\n",
    "a = 9 % 4\n",
    "print(a)\n",
    "\n",
    "# // 表示取商运算，也叫地板除\n",
    "a = 9 // 4\n",
    "print(a)\n",
    "\n",
    "# ** 幂运算\n",
    "a = 9**4\n",
    "print(a)"
   ]
  },
  {
   "cell_type": "markdown",
   "metadata": {},
   "source": [
    "## 比较运算符\n",
    "- 对两个变量或者值进行比较的运算符\n",
    "- 比较的结果是布尔值，即True/False"
   ]
  },
  {
   "cell_type": "code",
   "execution_count": 90,
   "metadata": {},
   "outputs": [
    {
     "name": "stdout",
     "output_type": "stream",
     "text": [
      "False\n",
      "True\n"
     ]
    }
   ],
   "source": [
    "# ==,等于号\n",
    "a = 3**4\n",
    "#下面语句的执行顺序是 \n",
    "#1，计算a == 80\n",
    "#2,把结果放入 b\n",
    "b = a == 80\n",
    "print(b)\n",
    "\n",
    "# != 不等于\n",
    "print(9 != 8)\n",
    "# > 大于\n",
    "# <  小于\n",
    "# >= 大于等于\n",
    "# <= 小于等于\n",
    "    "
   ]
  },
  {
   "cell_type": "markdown",
   "metadata": {},
   "source": [
    "## 赋值运算符\n"
   ]
  },
  {
   "cell_type": "code",
   "execution_count": 92,
   "metadata": {},
   "outputs": [
    {
     "name": "stdout",
     "output_type": "stream",
     "text": [
      "7\n"
     ]
    }
   ],
   "source": [
    "# = \n",
    "a = 0\n",
    "c = a = 4\n",
    "#+= 是缩写\n",
    "a = 0\n",
    "a += 7 # a = a +7的缩写\n",
    "print(a)\n",
    "\n",
    "# 所有的数学运算符都有缩写方式\n",
    "# -= //= /= *= %= **=，都是缩写形式"
   ]
  },
  {
   "cell_type": "markdown",
   "metadata": {},
   "source": [
    "## 逻辑运算符\n",
    "- 进行逻辑运算的符号\n",
    "- and 逻辑与\n",
    "- or 逻辑或\n",
    "- not逻辑非\n",
    "- python里面没有异或运算\n",
    "- 运算规则\n",
    "    - and看做乘法，or看做加法\n",
    "    - True看做1，False看做0\n",
    "    - 则逻辑运算就能转换成数学运算\n",
    "    - 最后如果是0则为False,否则为True\n",
    "- 逻辑运算的短路问题\n",
    "    - 逻辑运算式，按照运算顺序计算，一旦能够确定整个式子未来的值，则不再进行运算，直接返回\n",
    "    \n",
    "    "
   ]
  },
  {
   "cell_type": "code",
   "execution_count": 95,
   "metadata": {},
   "outputs": [
    {
     "name": "stdout",
     "output_type": "stream",
     "text": [
      "True\n",
      "True\n"
     ]
    }
   ],
   "source": [
    "# 逻辑运算符案例\n",
    "a = True\n",
    "b = False\n",
    "c = True\n",
    "\n",
    "#以下式子等于 d = 1 × 0 +1 \n",
    "d = a and b or c\n",
    "print(d)\n",
    "\n",
    "d = a or b and a\n",
    "print(d)"
   ]
  },
  {
   "cell_type": "code",
   "execution_count": 97,
   "metadata": {},
   "outputs": [
    {
     "ename": "SyntaxError",
     "evalue": "invalid syntax (<ipython-input-97-af118a635d95>, line 8)",
     "output_type": "error",
     "traceback": [
      "\u001b[0;36m  File \u001b[0;32m\"<ipython-input-97-af118a635d95>\"\u001b[0;36m, line \u001b[0;32m8\u001b[0m\n\u001b[0;31m    a = a or (b=9) and 6\u001b[0m\n\u001b[0m               ^\u001b[0m\n\u001b[0;31mSyntaxError\u001b[0m\u001b[0;31m:\u001b[0m invalid syntax\n"
     ]
    }
   ],
   "source": [
    "# 逻辑短路实例\n",
    "\n",
    "# 下面表达式，a的值一定是True,则运行到Or的时候，则整个运算表示式不在向下计算\n",
    "a = True or xxxxxxxxxx\n",
    "\n",
    "# 下面表达式，如果xxx中包含赋值表达式，则结果很难预测\n",
    "b = 0\n",
    "a = a or (b=9) and 6\n",
    "# 假定上面表达式如果没有语法错误\n",
    "# 则b最终的值应该是0 而不是9\n",
    "print(b)\n",
    "print(a)"
   ]
  },
  {
   "cell_type": "markdown",
   "metadata": {},
   "source": [
    "# 成员运算符号\n",
    "- 用来检测一个变量是否是另外一个变量的成员\n",
    "- in\n",
    "- not in\n"
   ]
  },
  {
   "cell_type": "code",
   "execution_count": 101,
   "metadata": {},
   "outputs": [
    {
     "name": "stdout",
     "output_type": "stream",
     "text": [
      "False\n",
      "True\n",
      "False\n"
     ]
    }
   ],
   "source": [
    "# 案例\n",
    "l = {1,2,3,3,4,5,6}\n",
    "a = 7\n",
    "b = a in l\n",
    "print(b)\n",
    "\n",
    "a = 4\n",
    "print(a in l)\n",
    "\n",
    "print(a not in l)"
   ]
  },
  {
   "cell_type": "markdown",
   "metadata": {},
   "source": [
    "## 身份运算\n",
    "- is 用来检测两个变量是否是同一个变量\n",
    "    - 语法就是 var1 is var2\n",
    "- is not 用来检测两个变量不是同一个变量"
   ]
  },
  {
   "cell_type": "code",
   "execution_count": 104,
   "metadata": {},
   "outputs": [
    {
     "name": "stdout",
     "output_type": "stream",
     "text": [
      "True\n",
      "False\n"
     ]
    }
   ],
   "source": [
    "a = 0\n",
    "b = 0\n",
    "print(a is b)\n",
    "\n",
    "a = \"i love zhangxiaoshuai\"\n",
    "b = \"i love zhangxiaoshuai\"\n",
    "print(a is b)"
   ]
  },
  {
   "cell_type": "markdown",
   "metadata": {},
   "source": [
    "## 运算符的优先级问题\n",
    "- 永远记住，括号具有最高优先级\n",
    "- 优先级表格\n",
    "    - ×× 指数\n",
    "    - -  +  -按位反转\n",
    "    - × / % //\n",
    "    - + - 加减运算符\n",
    "    - >> << 右移，左移"
   ]
  },
  {
   "cell_type": "markdown",
   "metadata": {},
   "source": [
    "# 程序结构\n",
    "- 顺序\n",
    "- 循环\n",
    "- 分支\n"
   ]
  }
 ],
 "metadata": {
  "kernelspec": {
   "display_name": "Python 3",
   "language": "python",
   "name": "python3"
  },
  "language_info": {
   "codemirror_mode": {
    "name": "ipython",
    "version": 3
   },
   "file_extension": ".py",
   "mimetype": "text/x-python",
   "name": "python",
   "nbconvert_exporter": "python",
   "pygments_lexer": "ipython3",
   "version": "3.6.5"
  }
 },
 "nbformat": 4,
 "nbformat_minor": 2
}
