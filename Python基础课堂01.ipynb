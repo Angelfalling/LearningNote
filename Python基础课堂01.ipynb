{
 "cells": [
  {
   "cell_type": "markdown",
   "metadata": {},
   "source": [
    "## 变量\n",
    "- 数组不可以打头\n",
    "- 以下划线开头的内容具有特殊含义\n",
    "- 大小写不一样，大小写敏感\n",
    "    - 推荐\n",
    "        - 使用具有固定含义的单词或者缩写\n",
    "        - 驼峰命名法，每个单词首字母大写\n",
    "            - 大驼峰\n",
    "                - 在python中命名类使用此法\n",
    "            - 小驼峰\n",
    "                - python中给函数或者变量使用此法\n",
    "            - Posix\n",
    "                - 多个单词之间用下划线链接，单词全部小写\n",
    "    - 保留字和关键字\n",
    "        - 变量命名必须避开，不能和关键子避开\n",
    "          \n",
    "      "
   ]
  },
  {
   "cell_type": "code",
   "execution_count": 5,
   "metadata": {
    "scrolled": true
   },
   "outputs": [
    {
     "name": "stdout",
     "output_type": "stream",
     "text": [
      "['False', 'None', 'True', 'and', 'as', 'assert', 'break', 'class', 'continue', 'def', 'del', 'elif', 'else', 'except', 'finally', 'for', 'from', 'global', 'if', 'import', 'in', 'is', 'lambda', 'nonlocal', 'not', 'or', 'pass', 'raise', 'return', 'try', 'while', 'with', 'yield']\n"
     ]
    }
   ],
   "source": [
    "#查看关键字\n",
    "import keyword  #引入关键字模块\n",
    "print(keyword.kwlist) "
   ]
  },
  {
   "cell_type": "markdown",
   "metadata": {},
   "source": [
    "## 变量的声明\n",
    "    - var_name = var_value\n",
    "    - var1 = var2 = var3 = var_value\n",
    "    - var1,var2,var3 = v1,v2,v3\n",
    "    "
   ]
  },
  {
   "cell_type": "code",
   "execution_count": 7,
   "metadata": {},
   "outputs": [
    {
     "name": "stdout",
     "output_type": "stream",
     "text": [
      "18\n",
      "18\n",
      "18\n",
      "18\n",
      "18\n",
      "12\n",
      "21\n",
      "45\n"
     ]
    }
   ],
   "source": [
    "# 定义变量age,把18放入变量中\n",
    "age = 18\n",
    "print(age)\n",
    "print(18)\n",
    "\n",
    "# 给age1,age2,age3 放入同样一个内容或值\n",
    "age1 = age2 = age3 = 18\n",
    "print(age1)\n",
    "print(age2)\n",
    "print(age3)\n",
    "\n",
    "# 一行内给多个变量赋值\n",
    "age4,age5, age6 = 12,21,45\n",
    "print(age4)\n",
    "print(age5)\n",
    "print(age6)\n"
   ]
  },
  {
   "cell_type": "markdown",
   "metadata": {},
   "source": [
    "## 变量类型\n",
    "- 严格意义上讲，python只有一种类型\n",
    "- 标准数据一共六种\n",
    "    - 数字类型\n",
    "    - 字符串类型\n",
    "    - 列表 list\n",
    "    - 元祖tuple\n",
    "    - 字典Dictionary\n",
    "    - 集合 set"
   ]
  },
  {
   "cell_type": "markdown",
   "metadata": {},
   "source": [
    "##  Number数组类型\n",
    "- 数字类型没有大小限制\n",
    "### 整 数\n",
    "- 没有小数部分，表示个数的数字\n",
    "- 自然数，0 ，非负数\n",
    "- 整数分进制\n",
    "    - 二进制\n",
    "        - 计算机常用\n",
    "        - 表示以0b为开头的0,1代码\n",
    "    - 八进制\n",
    "        - 不常用\n",
    "        - 以0o开头包含0-7的数字\n",
    "    - 十六进制\n",
    "        - 逢16进一\n",
    "        - 包含0-9 a-f\n",
    "        - 数字上以0x开头\n",
    "       \n",
    "    - 十进制\n",
    "        - 18,89,178"
   ]
  },
  {
   "cell_type": "code",
   "execution_count": 13,
   "metadata": {},
   "outputs": [
    {
     "name": "stdout",
     "output_type": "stream",
     "text": [
      "18\n",
      "18\n",
      "14\n",
      "255\n"
     ]
    }
   ],
   "source": [
    "age = 18\n",
    "print(age)\n",
    "\n",
    "age = 0b10010\n",
    "print(age)\n",
    "\n",
    "age = 0o16\n",
    "print(age)\n",
    "\n",
    "age = 0xff\n",
    "print(age)"
   ]
  },
  {
   "cell_type": "markdown",
   "metadata": {},
   "source": [
    "### 浮点数\n",
    "- 小数\n",
    "- 计算机表示浮点数可以有条件省略\n",
    "- 3.1415\n",
    "- 3.\n",
    "- 0.5\n",
    "- .5\n",
    "- 科学计数法\n",
    "    - 根数学定义一直\n",
    "    - 写法是用小写e/E后面跟整数表示10的整数\n",
    "    - 176.23 = 1.7634e2\n",
    "    - 0.876 = 8.76e-1"
   ]
  },
  {
   "cell_type": "code",
   "execution_count": 19,
   "metadata": {},
   "outputs": [
    {
     "name": "stdout",
     "output_type": "stream",
     "text": [
      "173.0\n",
      "0.2\n",
      "0.6\n"
     ]
    }
   ],
   "source": [
    "height = 173.0\n",
    "print(height)\n",
    "\n",
    "shili = 0.2\n",
    "print(shili)\n",
    "\n",
    "shili = .6\n",
    "print(shili)"
   ]
  },
  {
   "cell_type": "markdown",
   "metadata": {},
   "source": [
    "### 复数complex\n",
    "- 定义同数学定义一致\n",
    "- 一个由实部和虚部构成的数字\n",
    "- 虚部用j/J表示\n",
    "- 5+3j\n",
    "- 3j\n",
    "- (3j)"
   ]
  },
  {
   "cell_type": "markdown",
   "metadata": {},
   "source": [
    "### 布尔值\n",
    "- 只有震撼价的值\n",
    "- 只有两个值， True/False\n",
    "- 布尔值可以和数字直接操作"
   ]
  },
  {
   "cell_type": "code",
   "execution_count": 22,
   "metadata": {},
   "outputs": [
    {
     "name": "stdout",
     "output_type": "stream",
     "text": [
      "19\n"
     ]
    }
   ],
   "source": [
    "# 布尔值的操作\n",
    "age = 18 + True\n",
    "print(age)"
   ]
  },
  {
   "cell_type": "markdown",
   "metadata": {},
   "source": [
    "## 字符串\n",
    "- 用来表示一串文字信息\n",
    "- 如何表示\n",
    "    - 单引号\n",
    "    - 双引号\n",
    "    - 三引号（三个单引号或者三个双引号）\n",
    "- 单双引号交错使用\n",
    "    "
   ]
  },
  {
   "cell_type": "code",
   "execution_count": 34,
   "metadata": {},
   "outputs": [
    {
     "name": "stdout",
     "output_type": "stream",
     "text": [
      "I love zhangxiaoshuai!\n",
      "我爱张小帅\n",
      "\n",
      "i love zhangxiaoshuai\n",
      "我爱张小帅\n",
      "\n"
     ]
    }
   ],
   "source": [
    "love = \"I love zhangxiaoshuai!\"\n",
    "print(love)\n",
    "\n",
    "love = '我爱张小帅'\n",
    "print(love)\n",
    "\n",
    "#单双引号交错使用\n",
    "# <a style = \"color:red\">\\哈哈哈</a>\n",
    "# 用引号表示上面字符串\n",
    "html = 'a style = \"color:red\">哈哈哈</a>'\n",
    "\n",
    "html = '''\n",
    "i love zhangxiaoshuai\n",
    "我爱张小帅\n",
    "'''\n",
    "print(html)"
   ]
  },
  {
   "cell_type": "code",
   "execution_count": null,
   "metadata": {},
   "outputs": [],
   "source": []
  }
 ],
 "metadata": {
  "kernelspec": {
   "display_name": "Python 3",
   "language": "python",
   "name": "python3"
  },
  "language_info": {
   "codemirror_mode": {
    "name": "ipython",
    "version": 3
   },
   "file_extension": ".py",
   "mimetype": "text/x-python",
   "name": "python",
   "nbconvert_exporter": "python",
   "pygments_lexer": "ipython3",
   "version": "3.6.5"
  }
 },
 "nbformat": 4,
 "nbformat_minor": 2
}
