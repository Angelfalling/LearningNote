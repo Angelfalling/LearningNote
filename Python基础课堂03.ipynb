{
 "cells": [
  {
   "cell_type": "markdown",
   "metadata": {},
   "source": [
    "# 分支\n",
    "- 分支的基本语法\n",
    "        \n",
    "        if 条件表达式：\n",
    "            语句1\n",
    "            语句2\n",
    "            语句3\n",
    "            。。。。\n",
    "- 条件表达式就是计算结果必须为布尔值的表达式\n",
    "- 表达式后面的“:”不能少\n",
    "- 条件表达式结果为True执行if后面的缩进的语句块\n"
   ]
  },
  {
   "cell_type": "code",
   "execution_count": 6,
   "metadata": {},
   "outputs": [
    {
     "name": "stdout",
     "output_type": "stream",
     "text": [
      "去叫家长吧，孩纸\n",
      "我们不带你们玩\n",
      "滚球的\n"
     ]
    }
   ],
   "source": [
    "# if语句联系\n",
    "# 如果age小于18岁，则打印信息“去叫家长”\n",
    "\n",
    "age = 17\n",
    "if age < 18:\n",
    "    print(\"去叫家长吧，孩纸\")\n",
    "    print(\"我们不带你们玩\")\n",
    "    print(\"滚球的\")\n",
    "    "
   ]
  },
  {
   "cell_type": "code",
   "execution_count": 8,
   "metadata": {},
   "outputs": [
    {
     "name": "stdout",
     "output_type": "stream",
     "text": [
      "开始上车喽，老司机们\n"
     ]
    }
   ],
   "source": [
    "# if语句联系\n",
    "# 如果age小于18岁，则打印信息“去叫家长”\n",
    "\n",
    "age = 19\n",
    "if age < 18:\n",
    "    print(\"去叫家长吧，孩纸\")\n",
    "    print(\"我们不带你们玩\")\n",
    "    print(\"滚球的\")\n",
    "    \n",
    "print(\"开始上车喽，老司机们\")"
   ]
  },
  {
   "cell_type": "markdown",
   "metadata": {},
   "source": [
    "### 双向分支\n",
    "- if...else....语句\n",
    "\n",
    "        if 条件表达式：\n",
    "            语句1\n",
    "            语句2\n",
    "            ...\n",
    "        else:\n",
    "            语句1\n",
    "            语句2\n",
    "            ...\n",
    "- 双向分支有两个分支，当程序执行到if...else...语句的时候，一定会执行if或else中的一个，也仅执行一个\n",
    "- 缩进问题，if和else一个曾今，其余语句一个层级\n"
   ]
  },
  {
   "cell_type": "code",
   "execution_count": 15,
   "metadata": {},
   "outputs": [
    {
     "name": "stdout",
     "output_type": "stream",
     "text": [
      "请输入性别nan\n",
      "你输入的性别是nan\n",
      "我们纪念一下今天，代码敲十遍\n",
      "上课喽\n"
     ]
    }
   ],
   "source": [
    "# input的作用是\n",
    "# 1.在屏幕上输出括号内的字符串\n",
    "# 2.接受用户输入的内容并返回到程序\n",
    "# 3.input返回的内容一定是字符串类型\n",
    "gender = input(\"请输入性别\")\n",
    "print(\"你输入的性别是{0}\".format(gender))\n",
    "\n",
    "if gender == \"nan\":\n",
    "    print(\"我们纪念一下今天，代码敲十遍\")\n",
    "else:\n",
    "    print(\"发糖喽，发糖喽\")\n",
    "print(\"上课喽\")\n"
   ]
  },
  {
   "cell_type": "code",
   "execution_count": 20,
   "metadata": {},
   "outputs": [
    {
     "name": "stdout",
     "output_type": "stream",
     "text": [
      "请输入成绩70\n",
      "C\n"
     ]
    }
   ],
   "source": [
    "# 考试成绩判断\n",
    "# 90以上：输出优秀\n",
    "# 80-90：良\n",
    "# 70-80：中\n",
    "# 60-70：平\n",
    "# 60以下： 输出：我没有你这个学生\n",
    "# score 存放学生成绩\n",
    "score = input(\"请输入成绩\")\n",
    "#需要把str转换成int\n",
    "score = int(score)\n",
    "if score > 90:\n",
    "    print(\"A\")\n",
    "if score >= 80 and score <=90:\n",
    "    print(\"B\")\n",
    "if score >= 70 and score <80:\n",
    "    print(\"C\")\n",
    "if score >= 60 and score <70:\n",
    "    print(\"D\")\n",
    "if score < 60:\n",
    "    print(\"我没有你这个学生！\")"
   ]
  },
  {
   "cell_type": "markdown",
   "metadata": {},
   "source": [
    "## 多路分支\n",
    "- 很多分支的情况，简称多路分支\n",
    "   \n",
    "           if 条件表达式：\n",
    "               语句1\n",
    "               ...\n",
    "           elif:\n",
    "               语句1\n",
    "               ...\n",
    "           .....\n",
    "           else:\n",
    "               语句1\n",
    "               .....\n",
    "- elif 可以由很多\n",
    "- else 可选\n",
    "- 多路分支可以只选择一个"
   ]
  },
  {
   "cell_type": "code",
   "execution_count": 22,
   "metadata": {},
   "outputs": [
    {
     "name": "stdout",
     "output_type": "stream",
     "text": [
      "请输入成绩80\n",
      "B\n"
     ]
    }
   ],
   "source": [
    "# 考试成绩判断\n",
    "# 90以上：输出优秀\n",
    "# 80-90：良\n",
    "# 70-80：中\n",
    "# 60-70：平\n",
    "# 60以下： 输出：我没有你这个学生\n",
    "# score 存放学生成绩\n",
    "score = input(\"请输入成绩\")\n",
    "#需要把str转换成int\n",
    "score = int(score)\n",
    "if score > 90:\n",
    "    print(\"A\")\n",
    "elif score >= 80:\n",
    "    print(\"B\")\n",
    "elif score >= 70:\n",
    "    print(\"C\")\n",
    "elif score >= 60:\n",
    "    print(\"D\")\n",
    "else:\n",
    "    print(\"我没有你这个学生！\")"
   ]
  },
  {
   "cell_type": "markdown",
   "metadata": {},
   "source": [
    "## if语句其他：\n",
    "- if语句可以嵌套使用，但不推荐\n",
    "- python语句没有switch-case语句"
   ]
  },
  {
   "cell_type": "markdown",
   "metadata": {},
   "source": [
    "# 循环语句\n",
    "- 重复执行某些固定动作或者处理基本固定的事物\n",
    "- 分类\n",
    "    - for循环\n",
    "    - while循环\n",
    "## for 循环\n",
    "- for循环\n",
    "    \n",
    "        for 变量 in 序列:\n",
    "            语句1\n",
    "            语句2\n",
    "            ..."
   ]
  },
  {
   "cell_type": "code",
   "execution_count": 34,
   "metadata": {},
   "outputs": [
    {
     "name": "stdout",
     "output_type": "stream",
     "text": [
      "猪八戒\n",
      "孙悟空\n",
      "唐僧\n",
      "沙和尚\n"
     ]
    }
   ],
   "source": [
    "#列表就是一列数字或者其他值，一般用中括号表示\n",
    "# 例如 [’猪八戒‘，’孙悟空‘，’唐僧‘，‘沙和尚’]\n",
    "\n",
    "for name in ['猪八戒','孙悟空','唐僧','沙和尚']:\n",
    "    print(name)"
   ]
  },
  {
   "cell_type": "code",
   "execution_count": 38,
   "metadata": {},
   "outputs": [
    {
     "name": "stdout",
     "output_type": "stream",
     "text": [
      "猪八戒\n",
      "我不喜欢猪八戒\n",
      "孙悟空\n",
      "其他的人我都喜欢\n",
      "唐僧\n",
      "其他的人我都喜欢\n",
      "沙和尚\n",
      "其他的人我都喜欢\n"
     ]
    }
   ],
   "source": [
    "#列表就是一列数字或者其他值，一般用中括号表示\n",
    "# 例如 [’猪八戒‘，’孙悟空‘，’唐僧‘，‘沙和尚’]\n",
    "\n",
    "for name in ['猪八戒','孙悟空','唐僧','沙和尚']:\n",
    "    print(name)\n",
    "    if name == \"猪八戒\":\n",
    "        print(\"我不喜欢猪八戒\")\n",
    "    else:\n",
    "        print(\"其他的人我都喜欢\")"
   ]
  },
  {
   "cell_type": "markdown",
   "metadata": {},
   "source": [
    "## rang介绍\n",
    "- 生成一个数字序列\n",
    "- 具体范围可以设定\n"
   ]
  },
  {
   "cell_type": "code",
   "execution_count": 40,
   "metadata": {},
   "outputs": [
    {
     "name": "stdout",
     "output_type": "stream",
     "text": [
      "1\n",
      "2\n",
      "3\n",
      "4\n",
      "5\n",
      "6\n",
      "7\n",
      "8\n",
      "9\n"
     ]
    }
   ],
   "source": [
    "# range练习\n",
    "# 打印从1-10de shuzi \n",
    "# 在python中，如果表示数字范围两个数，一般是包含左边的数字，不包含右边的数字，左闭右开区间\n",
    "# randint 是特例，他左右都包含\n",
    "# range函数在python2和Python3由严重区别\n",
    "for i in range(1,10):\n",
    "    print(i)"
   ]
  },
  {
   "cell_type": "markdown",
   "metadata": {},
   "source": [
    "## for-else语句\n",
    "- 当for循环结束的时候，会执行else语句\n",
    "- else语句是可选语句"
   ]
  },
  {
   "cell_type": "code",
   "execution_count": 42,
   "metadata": {},
   "outputs": [
    {
     "name": "stdout",
     "output_type": "stream",
     "text": [
      "猪八戒\n",
      "我不喜欢猪八戒\n",
      "孙悟空\n",
      "其他的人我都喜欢\n",
      "唐僧\n",
      "其他的人我都喜欢\n",
      "沙和尚\n",
      "其他的人我都喜欢\n",
      "我感觉不会再爱了\n"
     ]
    }
   ],
   "source": [
    "# for- else语句\n",
    "# 打印列表中的同学\n",
    "# 如果没有在列表中的同学，或者列表结束的，我们需要打印提示语句，表示不会再爱了\n",
    "for name in ['猪八戒','孙悟空','唐僧','沙和尚']:\n",
    "    print(name)\n",
    "    if name == \"猪八戒\":\n",
    "        print(\"我不喜欢猪八戒\")\n",
    "    else:\n",
    "        print(\"其他的人我都喜欢\")\n",
    "else:\n",
    "    print(\"我感觉不会再爱了\")"
   ]
  },
  {
   "cell_type": "markdown",
   "metadata": {},
   "source": [
    "## 循环之break，continue，pass\n",
    "- break:无条件结束整个循环,简称循环猝死\n",
    "- continue:无条件结束本次循环，从新进入下一轮循环\n",
    "- pass:表示路过"
   ]
  },
  {
   "cell_type": "code",
   "execution_count": 48,
   "metadata": {},
   "outputs": [
    {
     "name": "stdout",
     "output_type": "stream",
     "text": [
      "1\n",
      "2\n",
      "3\n",
      "4\n",
      "5\n",
      "6\n",
      "7\n",
      "我找到了\n"
     ]
    }
   ],
   "source": [
    "# 在数字1-10中，寻找数字7，一旦找到，打印出来，其余则什么都不做\n",
    "# for循环中的变量表示，一般用i,k,m,n,或者index,idx,item之类的\n",
    "# 在python中，如果循环变量名称不重要，可以用下滑线（_）代替\n",
    "for t in range(1,11):\n",
    "    if t == 7:\n",
    "        print(t)\n",
    "        print(\"我找到了\")\n",
    "        break\n",
    "        \n",
    "    else:\n",
    "        print(t)"
   ]
  },
  {
   "cell_type": "code",
   "execution_count": 51,
   "metadata": {},
   "outputs": [
    {
     "name": "stdout",
     "output_type": "stream",
     "text": [
      "我找到了2偶数\n",
      "我找到了4偶数\n",
      "我找到了6偶数\n",
      "我找到了8偶数\n",
      "我找到了10偶数\n"
     ]
    }
   ],
   "source": [
    "# continue语句联系\n",
    "# 在数字1-10中，如果是偶数就打印出来，其余则什么都不做\n",
    "\n",
    "for t in range(1,11):\n",
    "    if t % 2 == 0:\n",
    "        print(\"我找到了{0}偶数\".format(t))\n",
    "    else:\n",
    "        continue"
   ]
  },
  {
   "cell_type": "code",
   "execution_count": 53,
   "metadata": {},
   "outputs": [
    {
     "name": "stdout",
     "output_type": "stream",
     "text": [
      "我不会写这一块\n",
      "我不会写这一块\n",
      "我不会写这一块\n",
      "我不会写这一块\n",
      "我不会写这一块\n",
      "我不会写这一块\n",
      "我不会写这一块\n",
      "我不会写这一块\n",
      "我不会写这一块\n",
      "我不会写这一块\n"
     ]
    }
   ],
   "source": [
    "# pass例子，一般用于占位\n",
    "\n",
    "for i in range(1,11):\n",
    "    pass\n",
    "    print(\"我不会写这一块\")"
   ]
  }
 ],
 "metadata": {
  "kernelspec": {
   "display_name": "Python 3",
   "language": "python",
   "name": "python3"
  },
  "language_info": {
   "codemirror_mode": {
    "name": "ipython",
    "version": 3
   },
   "file_extension": ".py",
   "mimetype": "text/x-python",
   "name": "python",
   "nbconvert_exporter": "python",
   "pygments_lexer": "ipython3",
   "version": "3.6.5"
  }
 },
 "nbformat": 4,
 "nbformat_minor": 2
}
