{
 "cells": [
  {
   "cell_type": "code",
   "execution_count": 2,
   "metadata": {},
   "outputs": [
    {
     "name": "stdout",
     "output_type": "stream",
     "text": [
      "0\n",
      "1\n",
      "2\n",
      "3\n",
      "4\n",
      "5\n",
      "6\n",
      "7\n",
      "8\n",
      "9\n"
     ]
    }
   ],
   "source": [
    "import time\n",
    "# sleep：使程序进入睡眠，n秒后继续\n",
    "for i in range(10):\n",
    "    print(i)\n",
    "    time.sleep(1)"
   ]
  },
  {
   "cell_type": "code",
   "execution_count": 5,
   "metadata": {},
   "outputs": [
    {
     "name": "stdout",
     "output_type": "stream",
     "text": [
      "0.002059000000000033\n"
     ]
    }
   ],
   "source": [
    "def p():\n",
    "    time.sleep(2.5)\n",
    "t0 = time.clock()\n",
    "p()\n",
    "t1 = time.clock()\n",
    "print(t1-t0)"
   ]
  },
  {
   "cell_type": "markdown",
   "metadata": {},
   "source": [
    "# strftime:将时间元祖转化为自定以的字符串格式\n"
   ]
  },
  {
   "cell_type": "code",
   "execution_count": 11,
   "metadata": {},
   "outputs": [
    {
     "name": "stdout",
     "output_type": "stream",
     "text": [
      "20180716\n"
     ]
    }
   ],
   "source": [
    "# strftime\n",
    "t = time.localtime()\n",
    "ft = time.strftime(\"%Y%m%d\",t)\n",
    "print(ft)"
   ]
  },
  {
   "cell_type": "markdown",
   "metadata": {},
   "source": [
    "# datetime模块\n",
    "- datetime提供日期和时间的运算和表示\n"
   ]
  },
  {
   "cell_type": "code",
   "execution_count": 12,
   "metadata": {},
   "outputs": [],
   "source": [
    "import datetime\n"
   ]
  },
  {
   "cell_type": "code",
   "execution_count": 17,
   "metadata": {},
   "outputs": [
    {
     "name": "stdout",
     "output_type": "stream",
     "text": [
      "2018-07-16\n",
      "2018-07-16\n",
      "2018\n",
      "7\n",
      "16\n"
     ]
    }
   ],
   "source": [
    "# datetime常见属性\n",
    "# datetime.date 一个理想日期，提供year，month,day属性\n",
    "print(datetime.date(2018,7,16))\n",
    "dt  = datetime.date(2018,7,16)\n",
    "print(dt)\n",
    "print(dt.year)\n",
    "print(dt.month)\n",
    "print(dt.day)\n",
    "\n",
    "# datetime.date:提供一个理想和时间，hour,minute,sec,microsec\n",
    "# datetime.datetime:提供日期和时间的组合\n",
    "# datetime.timedelta：提供一个时间差，时间长度"
   ]
  },
  {
   "cell_type": "code",
   "execution_count": 20,
   "metadata": {},
   "outputs": [
    {
     "name": "stdout",
     "output_type": "stream",
     "text": [
      "2018-07-16 06:54:30.308687\n",
      "2018-07-16 06:54:30.308805\n"
     ]
    }
   ],
   "source": [
    "# datetime.datetime\n",
    "from datetime import datetime\n",
    "# 常用类方法\n",
    "# today\n",
    "# now\n",
    "# utcnow\n",
    "# fromtimestamp:从时间戳中返回本地时间\n",
    "dt = datetime(2018,7,16)\n",
    "print(dt.today())\n",
    "print(dt.now())"
   ]
  },
  {
   "cell_type": "code",
   "execution_count": 25,
   "metadata": {},
   "outputs": [
    {
     "name": "stdout",
     "output_type": "stream",
     "text": [
      "2018-07-16 06:58:23.913884\n",
      "2018-07-16 06:58:23\n",
      "2018-07-16 07:58:23\n"
     ]
    }
   ],
   "source": [
    "# datetime.timedelta\n",
    "# 表示一个时间间隔\n",
    "\n",
    "from datetime import  datetime,timedelta\n",
    "\n",
    "t1 = datetime.now()\n",
    "print(t1)\n",
    "print(t1.strftime(\"%Y-%m-%d %H:%M:%S\"))\n",
    "td = timedelta(hours = 1)\n",
    "print((t1+td).strftime(\"%Y-%m-%d %H:%M:%S\"))"
   ]
  },
  {
   "cell_type": "code",
   "execution_count": 27,
   "metadata": {},
   "outputs": [
    {
     "name": "stdout",
     "output_type": "stream",
     "text": [
      "3.0033342838287354\n"
     ]
    }
   ],
   "source": [
    "# timeit - 时间测量工具\n",
    "# 测量程序运行时间间隔实验\n",
    "def p():\n",
    "    time.sleep(3)\n",
    "t1 = time.time()\n",
    "p()\n",
    "print(time.time()- t1)\n",
    "    "
   ]
  },
  {
   "cell_type": "code",
   "execution_count": 35,
   "metadata": {},
   "outputs": [
    {
     "name": "stdout",
     "output_type": "stream",
     "text": [
      "0.4340895390005244\n",
      "0.7309641310002917\n"
     ]
    }
   ],
   "source": [
    "import timeit\n",
    "# 生成列表两种方法的比较\n",
    "# 如果单纯比较生成一个列表的时间，可能很难实现\n",
    "c = '''\n",
    "sum = []\n",
    "for i in range(1000):\n",
    "    sum.append(i)\n",
    "'''\n",
    "\n",
    "t1 = timeit.timeit(stmt = \"[i for i in range(1000)]\",number = 10000)\n",
    "t2 = timeit.timeit(stmt = c,number = 10000)\n",
    "print(t1)\n",
    "print(t2)"
   ]
  },
  {
   "cell_type": "code",
   "execution_count": 39,
   "metadata": {},
   "outputs": [
    {
     "name": "stdout",
     "output_type": "stream",
     "text": [
      "repeat 0\n",
      "repeat 1\n",
      "repeat 2\n",
      "repeat 0\n",
      "repeat 1\n",
      "repeat 2\n",
      "repeat 0\n",
      "repeat 1\n",
      "repeat 2\n",
      "repeat 0\n",
      "repeat 1\n",
      "repeat 2\n",
      "repeat 0\n",
      "repeat 1\n",
      "repeat 2\n",
      "repeat 0\n",
      "repeat 1\n",
      "repeat 2\n",
      "repeat 0\n",
      "repeat 1\n",
      "repeat 2\n",
      "repeat 0\n",
      "repeat 1\n",
      "repeat 2\n",
      "repeat 0\n",
      "repeat 1\n",
      "repeat 2\n",
      "repeat 0\n",
      "repeat 1\n",
      "repeat 2\n",
      "0.010382469999967725\n"
     ]
    }
   ],
   "source": [
    "# timeit 可以执行一个函数，来测量一个函数的执行时间\n",
    "def doIt():\n",
    "    num = 3\n",
    "    for i in range(num):\n",
    "        print(\"repeat {0}\".format(i))\n",
    "t = timeit.timeit(stmt = doIt,number=10)\n",
    "print(t)"
   ]
  },
  {
   "cell_type": "code",
   "execution_count": 40,
   "metadata": {},
   "outputs": [
    {
     "name": "stdout",
     "output_type": "stream",
     "text": [
      "repeat 0\n",
      "repeat 1\n",
      "repeat 2\n",
      "repeat 0\n",
      "repeat 1\n",
      "repeat 2\n",
      "repeat 0\n",
      "repeat 1\n",
      "repeat 2\n",
      "repeat 0\n",
      "repeat 1\n",
      "repeat 2\n",
      "repeat 0\n",
      "repeat 1\n",
      "repeat 2\n",
      "repeat 0\n",
      "repeat 1\n",
      "repeat 2\n",
      "repeat 0\n",
      "repeat 1\n",
      "repeat 2\n",
      "repeat 0\n",
      "repeat 1\n",
      "repeat 2\n",
      "repeat 0\n",
      "repeat 1\n",
      "repeat 2\n",
      "repeat 0\n",
      "repeat 1\n",
      "repeat 2\n"
     ]
    }
   ],
   "source": [
    "s = '''\n",
    "def doIt(num):\n",
    "    for i in range(num):\n",
    "        print(\"repeat {0}\".format(i))\n",
    "        \n",
    "'''\n",
    "# 执行doIt(num)\n",
    "# setup负责把环境变量准备好\n",
    "# 实际相当与给timeit创造了一个小环境\n",
    "t = timeit.timeit(\"doIt(num)\",setup = s+\"num=3\",number=10)"
   ]
  }
 ],
 "metadata": {
  "kernelspec": {
   "display_name": "Python 3",
   "language": "python",
   "name": "python3"
  },
  "language_info": {
   "codemirror_mode": {
    "name": "ipython",
    "version": 3
   },
   "file_extension": ".py",
   "mimetype": "text/x-python",
   "name": "python",
   "nbconvert_exporter": "python",
   "pygments_lexer": "ipython3",
   "version": "3.6.5"
  }
 },
 "nbformat": 4,
 "nbformat_minor": 2
}
